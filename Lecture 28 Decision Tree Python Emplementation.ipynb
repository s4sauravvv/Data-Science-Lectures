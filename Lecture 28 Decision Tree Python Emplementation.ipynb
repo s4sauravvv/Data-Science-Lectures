{
 "cells": [
  {
   "cell_type": "markdown",
   "id": "63014f3a",
   "metadata": {},
   "source": [
    "We will use sklearn module to implement decision tree algorithm . sklearn uses CART (Classification and Regression Trees) algorithm and by default it uses impurity as a criteria to split the nodes."
   ]
  },
  {
   "cell_type": "raw",
   "id": "bb331515",
   "metadata": {},
   "source": [
    "https://scikit-learn.org/stable/index.html"
   ]
  },
  {
   "cell_type": "markdown",
   "id": "34af69de",
   "metadata": {},
   "source": [
    "There are other algorithm ID3,C4.5,Chi-Square etc."
   ]
  },
  {
   "cell_type": "markdown",
   "id": "a41cd12b",
   "metadata": {},
   "source": [
    "We Will see the use of cart in following implementation."
   ]
  },
  {
   "cell_type": "code",
   "execution_count": 3,
   "id": "ff35b190",
   "metadata": {},
   "outputs": [],
   "source": [
    "#Import necessary libraries\n",
    "import pandas as pd\n",
    "import numpy as np\n",
    "\n",
    "#For datavisualiztion \n",
    "import matplotlib.pyplot as plt\n",
    "import seaborn as sns\n",
    "%matplotlib inline\n",
    "\n",
    "import warnings\n",
    "warnings.filterwarnings('ignore')\n",
    "# For model prepration\n",
    "from sklearn.tree import DecisionTreeClassifier\n",
    "from sklearn.model_selection import train_test_split,GridSearchCV\n",
    "from sklearn.metrics import confusion_matrix,accuracy_score,classification_report\n",
    "from sklearn.preprocessing import StandardScaler\n"
   ]
  },
  {
   "cell_type": "code",
   "execution_count": 4,
   "id": "c428b240",
   "metadata": {},
   "outputs": [],
   "source": [
    "#Import the Data"
   ]
  },
  {
   "cell_type": "code",
   "execution_count": 21,
   "id": "649bb8bc",
   "metadata": {},
   "outputs": [
    {
     "data": {
      "text/html": [
       "<div>\n",
       "<style scoped>\n",
       "    .dataframe tbody tr th:only-of-type {\n",
       "        vertical-align: middle;\n",
       "    }\n",
       "\n",
       "    .dataframe tbody tr th {\n",
       "        vertical-align: top;\n",
       "    }\n",
       "\n",
       "    .dataframe thead th {\n",
       "        text-align: right;\n",
       "    }\n",
       "</style>\n",
       "<table border=\"1\" class=\"dataframe\">\n",
       "  <thead>\n",
       "    <tr style=\"text-align: right;\">\n",
       "      <th></th>\n",
       "      <th>fixed acidity</th>\n",
       "      <th>volatile acidity</th>\n",
       "      <th>citric acid</th>\n",
       "      <th>residual sugar</th>\n",
       "      <th>chlorides</th>\n",
       "      <th>free sulfur dioxide</th>\n",
       "      <th>total sulfur dioxide</th>\n",
       "      <th>density</th>\n",
       "      <th>pH</th>\n",
       "      <th>sulphates</th>\n",
       "      <th>alcohol</th>\n",
       "      <th>Alcohol_content</th>\n",
       "      <th>quality</th>\n",
       "    </tr>\n",
       "  </thead>\n",
       "  <tbody>\n",
       "    <tr>\n",
       "      <th>0</th>\n",
       "      <td>7.4</td>\n",
       "      <td>0.70</td>\n",
       "      <td>0.00</td>\n",
       "      <td>1.9</td>\n",
       "      <td>0.076</td>\n",
       "      <td>11.0</td>\n",
       "      <td>34.0</td>\n",
       "      <td>0.9978</td>\n",
       "      <td>3.51</td>\n",
       "      <td>0.56</td>\n",
       "      <td>9.4</td>\n",
       "      <td>Low</td>\n",
       "      <td>5</td>\n",
       "    </tr>\n",
       "    <tr>\n",
       "      <th>1</th>\n",
       "      <td>7.8</td>\n",
       "      <td>0.88</td>\n",
       "      <td>0.00</td>\n",
       "      <td>2.6</td>\n",
       "      <td>0.098</td>\n",
       "      <td>25.0</td>\n",
       "      <td>67.0</td>\n",
       "      <td>0.9968</td>\n",
       "      <td>3.20</td>\n",
       "      <td>0.68</td>\n",
       "      <td>9.8</td>\n",
       "      <td>Medium</td>\n",
       "      <td>5</td>\n",
       "    </tr>\n",
       "    <tr>\n",
       "      <th>2</th>\n",
       "      <td>7.8</td>\n",
       "      <td>0.76</td>\n",
       "      <td>0.04</td>\n",
       "      <td>2.3</td>\n",
       "      <td>0.092</td>\n",
       "      <td>15.0</td>\n",
       "      <td>54.0</td>\n",
       "      <td>0.9970</td>\n",
       "      <td>3.26</td>\n",
       "      <td>0.65</td>\n",
       "      <td>9.8</td>\n",
       "      <td>Medium</td>\n",
       "      <td>5</td>\n",
       "    </tr>\n",
       "    <tr>\n",
       "      <th>3</th>\n",
       "      <td>11.2</td>\n",
       "      <td>0.28</td>\n",
       "      <td>0.56</td>\n",
       "      <td>1.9</td>\n",
       "      <td>0.075</td>\n",
       "      <td>17.0</td>\n",
       "      <td>60.0</td>\n",
       "      <td>0.9980</td>\n",
       "      <td>3.16</td>\n",
       "      <td>0.58</td>\n",
       "      <td>9.8</td>\n",
       "      <td>Medium</td>\n",
       "      <td>6</td>\n",
       "    </tr>\n",
       "    <tr>\n",
       "      <th>4</th>\n",
       "      <td>7.4</td>\n",
       "      <td>0.70</td>\n",
       "      <td>0.00</td>\n",
       "      <td>1.9</td>\n",
       "      <td>0.076</td>\n",
       "      <td>11.0</td>\n",
       "      <td>34.0</td>\n",
       "      <td>0.9978</td>\n",
       "      <td>3.51</td>\n",
       "      <td>0.56</td>\n",
       "      <td>9.4</td>\n",
       "      <td>Low</td>\n",
       "      <td>5</td>\n",
       "    </tr>\n",
       "  </tbody>\n",
       "</table>\n",
       "</div>"
      ],
      "text/plain": [
       "   fixed acidity  volatile acidity  citric acid  residual sugar  chlorides  \\\n",
       "0            7.4              0.70         0.00             1.9      0.076   \n",
       "1            7.8              0.88         0.00             2.6      0.098   \n",
       "2            7.8              0.76         0.04             2.3      0.092   \n",
       "3           11.2              0.28         0.56             1.9      0.075   \n",
       "4            7.4              0.70         0.00             1.9      0.076   \n",
       "\n",
       "   free sulfur dioxide  total sulfur dioxide  density    pH  sulphates  \\\n",
       "0                 11.0                  34.0   0.9978  3.51       0.56   \n",
       "1                 25.0                  67.0   0.9968  3.20       0.68   \n",
       "2                 15.0                  54.0   0.9970  3.26       0.65   \n",
       "3                 17.0                  60.0   0.9980  3.16       0.58   \n",
       "4                 11.0                  34.0   0.9978  3.51       0.56   \n",
       "\n",
       "   alcohol Alcohol_content  quality  \n",
       "0      9.4             Low        5  \n",
       "1      9.8          Medium        5  \n",
       "2      9.8          Medium        5  \n",
       "3      9.8          Medium        6  \n",
       "4      9.4             Low        5  "
      ]
     },
     "execution_count": 21,
     "metadata": {},
     "output_type": "execute_result"
    }
   ],
   "source": [
    "data=pd.read_csv('https://raw.githubusercontent.com/training-ml/Files/main/wine.csv')\n",
    "data.head()"
   ]
  },
  {
   "cell_type": "code",
   "execution_count": 6,
   "id": "330f5ccf",
   "metadata": {},
   "outputs": [],
   "source": [
    "#See Data Summary"
   ]
  },
  {
   "cell_type": "code",
   "execution_count": 22,
   "id": "7e48bb4c",
   "metadata": {},
   "outputs": [
    {
     "data": {
      "text/plain": [
       "(1599, 13)"
      ]
     },
     "execution_count": 22,
     "metadata": {},
     "output_type": "execute_result"
    }
   ],
   "source": [
    "data.shape"
   ]
  },
  {
   "cell_type": "code",
   "execution_count": 23,
   "id": "9ba2d1de",
   "metadata": {},
   "outputs": [
    {
     "data": {
      "text/plain": [
       "fixed acidity           0\n",
       "volatile acidity        0\n",
       "citric acid             0\n",
       "residual sugar          0\n",
       "chlorides               0\n",
       "free sulfur dioxide     0\n",
       "total sulfur dioxide    0\n",
       "density                 0\n",
       "pH                      0\n",
       "sulphates               0\n",
       "alcohol                 0\n",
       "Alcohol_content         0\n",
       "quality                 0\n",
       "dtype: int64"
      ]
     },
     "execution_count": 23,
     "metadata": {},
     "output_type": "execute_result"
    }
   ],
   "source": [
    "data.isna().sum()"
   ]
  },
  {
   "cell_type": "code",
   "execution_count": 24,
   "id": "c1af71d2",
   "metadata": {},
   "outputs": [],
   "source": [
    "#There is no null values we are good to proceed"
   ]
  },
  {
   "cell_type": "code",
   "execution_count": 25,
   "id": "b93ebf9f",
   "metadata": {},
   "outputs": [
    {
     "data": {
      "text/html": [
       "<div>\n",
       "<style scoped>\n",
       "    .dataframe tbody tr th:only-of-type {\n",
       "        vertical-align: middle;\n",
       "    }\n",
       "\n",
       "    .dataframe tbody tr th {\n",
       "        vertical-align: top;\n",
       "    }\n",
       "\n",
       "    .dataframe thead th {\n",
       "        text-align: right;\n",
       "    }\n",
       "</style>\n",
       "<table border=\"1\" class=\"dataframe\">\n",
       "  <thead>\n",
       "    <tr style=\"text-align: right;\">\n",
       "      <th></th>\n",
       "      <th>fixed acidity</th>\n",
       "      <th>volatile acidity</th>\n",
       "      <th>citric acid</th>\n",
       "      <th>residual sugar</th>\n",
       "      <th>chlorides</th>\n",
       "      <th>free sulfur dioxide</th>\n",
       "      <th>total sulfur dioxide</th>\n",
       "      <th>density</th>\n",
       "      <th>pH</th>\n",
       "      <th>sulphates</th>\n",
       "      <th>alcohol</th>\n",
       "      <th>quality</th>\n",
       "    </tr>\n",
       "  </thead>\n",
       "  <tbody>\n",
       "    <tr>\n",
       "      <th>count</th>\n",
       "      <td>1599.000000</td>\n",
       "      <td>1599.000000</td>\n",
       "      <td>1599.000000</td>\n",
       "      <td>1599.000000</td>\n",
       "      <td>1599.000000</td>\n",
       "      <td>1599.000000</td>\n",
       "      <td>1599.000000</td>\n",
       "      <td>1599.000000</td>\n",
       "      <td>1599.000000</td>\n",
       "      <td>1599.000000</td>\n",
       "      <td>1599.000000</td>\n",
       "      <td>1599.000000</td>\n",
       "    </tr>\n",
       "    <tr>\n",
       "      <th>mean</th>\n",
       "      <td>8.319637</td>\n",
       "      <td>0.527821</td>\n",
       "      <td>0.270976</td>\n",
       "      <td>2.538806</td>\n",
       "      <td>0.087467</td>\n",
       "      <td>15.874922</td>\n",
       "      <td>46.467792</td>\n",
       "      <td>0.996747</td>\n",
       "      <td>3.311113</td>\n",
       "      <td>0.658149</td>\n",
       "      <td>10.422983</td>\n",
       "      <td>5.636023</td>\n",
       "    </tr>\n",
       "    <tr>\n",
       "      <th>std</th>\n",
       "      <td>1.741096</td>\n",
       "      <td>0.179060</td>\n",
       "      <td>0.194801</td>\n",
       "      <td>1.409928</td>\n",
       "      <td>0.047065</td>\n",
       "      <td>10.460157</td>\n",
       "      <td>32.895324</td>\n",
       "      <td>0.001887</td>\n",
       "      <td>0.154386</td>\n",
       "      <td>0.169507</td>\n",
       "      <td>1.065668</td>\n",
       "      <td>0.807569</td>\n",
       "    </tr>\n",
       "    <tr>\n",
       "      <th>min</th>\n",
       "      <td>4.600000</td>\n",
       "      <td>0.120000</td>\n",
       "      <td>0.000000</td>\n",
       "      <td>0.900000</td>\n",
       "      <td>0.012000</td>\n",
       "      <td>1.000000</td>\n",
       "      <td>6.000000</td>\n",
       "      <td>0.990070</td>\n",
       "      <td>2.740000</td>\n",
       "      <td>0.330000</td>\n",
       "      <td>8.400000</td>\n",
       "      <td>3.000000</td>\n",
       "    </tr>\n",
       "    <tr>\n",
       "      <th>25%</th>\n",
       "      <td>7.100000</td>\n",
       "      <td>0.390000</td>\n",
       "      <td>0.090000</td>\n",
       "      <td>1.900000</td>\n",
       "      <td>0.070000</td>\n",
       "      <td>7.000000</td>\n",
       "      <td>22.000000</td>\n",
       "      <td>0.995600</td>\n",
       "      <td>3.210000</td>\n",
       "      <td>0.550000</td>\n",
       "      <td>9.500000</td>\n",
       "      <td>5.000000</td>\n",
       "    </tr>\n",
       "    <tr>\n",
       "      <th>50%</th>\n",
       "      <td>7.900000</td>\n",
       "      <td>0.520000</td>\n",
       "      <td>0.260000</td>\n",
       "      <td>2.200000</td>\n",
       "      <td>0.079000</td>\n",
       "      <td>14.000000</td>\n",
       "      <td>38.000000</td>\n",
       "      <td>0.996750</td>\n",
       "      <td>3.310000</td>\n",
       "      <td>0.620000</td>\n",
       "      <td>10.200000</td>\n",
       "      <td>6.000000</td>\n",
       "    </tr>\n",
       "    <tr>\n",
       "      <th>75%</th>\n",
       "      <td>9.200000</td>\n",
       "      <td>0.640000</td>\n",
       "      <td>0.420000</td>\n",
       "      <td>2.600000</td>\n",
       "      <td>0.090000</td>\n",
       "      <td>21.000000</td>\n",
       "      <td>62.000000</td>\n",
       "      <td>0.997835</td>\n",
       "      <td>3.400000</td>\n",
       "      <td>0.730000</td>\n",
       "      <td>11.100000</td>\n",
       "      <td>6.000000</td>\n",
       "    </tr>\n",
       "    <tr>\n",
       "      <th>max</th>\n",
       "      <td>15.900000</td>\n",
       "      <td>1.580000</td>\n",
       "      <td>1.000000</td>\n",
       "      <td>15.500000</td>\n",
       "      <td>0.611000</td>\n",
       "      <td>72.000000</td>\n",
       "      <td>289.000000</td>\n",
       "      <td>1.003690</td>\n",
       "      <td>4.010000</td>\n",
       "      <td>2.000000</td>\n",
       "      <td>14.900000</td>\n",
       "      <td>8.000000</td>\n",
       "    </tr>\n",
       "  </tbody>\n",
       "</table>\n",
       "</div>"
      ],
      "text/plain": [
       "       fixed acidity  volatile acidity  citric acid  residual sugar  \\\n",
       "count    1599.000000       1599.000000  1599.000000     1599.000000   \n",
       "mean        8.319637          0.527821     0.270976        2.538806   \n",
       "std         1.741096          0.179060     0.194801        1.409928   \n",
       "min         4.600000          0.120000     0.000000        0.900000   \n",
       "25%         7.100000          0.390000     0.090000        1.900000   \n",
       "50%         7.900000          0.520000     0.260000        2.200000   \n",
       "75%         9.200000          0.640000     0.420000        2.600000   \n",
       "max        15.900000          1.580000     1.000000       15.500000   \n",
       "\n",
       "         chlorides  free sulfur dioxide  total sulfur dioxide      density  \\\n",
       "count  1599.000000          1599.000000           1599.000000  1599.000000   \n",
       "mean      0.087467            15.874922             46.467792     0.996747   \n",
       "std       0.047065            10.460157             32.895324     0.001887   \n",
       "min       0.012000             1.000000              6.000000     0.990070   \n",
       "25%       0.070000             7.000000             22.000000     0.995600   \n",
       "50%       0.079000            14.000000             38.000000     0.996750   \n",
       "75%       0.090000            21.000000             62.000000     0.997835   \n",
       "max       0.611000            72.000000            289.000000     1.003690   \n",
       "\n",
       "                pH    sulphates      alcohol      quality  \n",
       "count  1599.000000  1599.000000  1599.000000  1599.000000  \n",
       "mean      3.311113     0.658149    10.422983     5.636023  \n",
       "std       0.154386     0.169507     1.065668     0.807569  \n",
       "min       2.740000     0.330000     8.400000     3.000000  \n",
       "25%       3.210000     0.550000     9.500000     5.000000  \n",
       "50%       3.310000     0.620000    10.200000     6.000000  \n",
       "75%       3.400000     0.730000    11.100000     6.000000  \n",
       "max       4.010000     2.000000    14.900000     8.000000  "
      ]
     },
     "execution_count": 25,
     "metadata": {},
     "output_type": "execute_result"
    }
   ],
   "source": [
    "data.describe()"
   ]
  },
  {
   "cell_type": "markdown",
   "id": "9505aac0",
   "metadata": {},
   "source": [
    "As we hvae categorical column(Alcohol_content) we  need to convert into numeric data using encoding method.\n",
    "\n",
    "\n",
    "\n",
    "Content is following same like low medium high . we need to give weight according to the order ."
   ]
  },
  {
   "cell_type": "code",
   "execution_count": 26,
   "id": "10f77116",
   "metadata": {},
   "outputs": [],
   "source": [
    "from sklearn.preprocessing import OrdinalEncoder"
   ]
  },
  {
   "cell_type": "code",
   "execution_count": 35,
   "id": "43d401ee",
   "metadata": {},
   "outputs": [
    {
     "data": {
      "text/plain": [
       "array([[0.],\n",
       "       [1.],\n",
       "       [1.],\n",
       "       ...,\n",
       "       [2.],\n",
       "       [1.],\n",
       "       [2.]])"
      ]
     },
     "execution_count": 35,
     "metadata": {},
     "output_type": "execute_result"
    }
   ],
   "source": [
    "df=OrdinalEncoder(categories=[['Low','Medium','High']])\n",
    "df1=df.fit_transform(data[['Alcohol_content']])\n",
    "df1"
   ]
  },
  {
   "cell_type": "markdown",
   "id": "0e8e39ed",
   "metadata": {},
   "source": [
    "Override alcohol content column with codes . Now we are infuse the original data. and convert data transformation we are reassigning the data in the same column."
   ]
  },
  {
   "cell_type": "code",
   "execution_count": 36,
   "id": "aca10d79",
   "metadata": {},
   "outputs": [],
   "source": [
    "data['Alcohol_content']=df1"
   ]
  },
  {
   "cell_type": "markdown",
   "id": "7a9c8a55",
   "metadata": {},
   "source": [
    "Then we are going to check relationship and multicollinearity problem.\n",
    "\n",
    "In Machine learning there is not fixed method , there is no standard.\n",
    "\n",
    "\n",
    "\n",
    "If everything is stardized if everything is pre defined . every company they will atomat everything . if everything is fix company dont need data scientist.\n",
    "\n",
    "Why Dont need - > Beacuse only human and see tha data and analyse it machine  working based on ours intruction"
   ]
  },
  {
   "cell_type": "markdown",
   "id": "575a5a06",
   "metadata": {},
   "source": [
    "- Still we are not started to check relationship."
   ]
  },
  {
   "cell_type": "markdown",
   "id": "3f3fb9ee",
   "metadata": {},
   "source": [
    "# Plotting Heatmap (Correaltion Matrix)"
   ]
  },
  {
   "cell_type": "markdown",
   "id": "f2631bfe",
   "metadata": {},
   "source": [
    "- Lets try to see . if we can reduce the features using different tehniques.\n",
    "\n",
    "- Lets plot heatmap to visualize and find the coefficient of multicollinearity."
   ]
  },
  {
   "cell_type": "code",
   "execution_count": 37,
   "id": "fa11d70d",
   "metadata": {},
   "outputs": [],
   "source": [
    "df_corr=data.corr().abs()# (absolute value)This code will get the coefficient of one varible vs all other variable(Relationship)"
   ]
  },
  {
   "cell_type": "code",
   "execution_count": 40,
   "id": "4c67be0b",
   "metadata": {},
   "outputs": [
    {
     "data": {
      "image/png": "[encoded data removed]",
      "text/plain": [
       "<Figure size 1296x1008 with 2 Axes>"
      ]
     },
     "metadata": {
      "needs_background": "light"
     },
     "output_type": "display_data"
    }
   ],
   "source": [
    "plt.figure(figsize=(18,14))\n",
    "sns.heatmap(df_corr,annot=True,annot_kws={'size':10})\n",
    "plt.show()"
   ]
  },
  {
   "cell_type": "markdown",
   "id": "b2345cfc",
   "metadata": {},
   "source": [
    "Seems like alcohol_content and alcohol are correlated as per above heat map. But we need proof."
   ]
  },
  {
   "cell_type": "code",
   "execution_count": 41,
   "id": "16d66d61",
   "metadata": {},
   "outputs": [
    {
     "data": {
      "image/png": "[encoded data removed]",
      "text/plain": [
       "<Figure size 432x288 with 1 Axes>"
      ]
     },
     "metadata": {
      "needs_background": "light"
     },
     "output_type": "display_data"
    }
   ],
   "source": [
    "plt.scatter(data.alcohol,data.Alcohol_content)\n",
    "plt.xlabel('Alcohol')\n",
    "plt.ylabel('Alcohol_Content')\n",
    "plt.title('Alcohol Vs Alcohol_Content')\n",
    "plt.show()"
   ]
  },
  {
   "cell_type": "markdown",
   "id": "6c5dcf04",
   "metadata": {},
   "source": [
    "We see clear trend . As and when alcohol level increases its content also increasing . so we can delete one of them."
   ]
  },
  {
   "cell_type": "code",
   "execution_count": 50,
   "id": "a525122a",
   "metadata": {},
   "outputs": [],
   "source": [
    "x=data.drop(columns=['Alcohol_content','quality'])\n",
    "y=data.quality"
   ]
  },
  {
   "cell_type": "code",
   "execution_count": 51,
   "id": "d56fc731",
   "metadata": {},
   "outputs": [],
   "source": [
    "x_train,x_test,y_train,y_test=train_test_split(x,y,test_size=0.25,random_state=94255)"
   ]
  },
  {
   "cell_type": "markdown",
   "id": "70ee3e09",
   "metadata": {},
   "source": [
    "Here we are not going to use Standard Scaler because decision tree will take care of that you dont need to standadize the data in the decision tree."
   ]
  },
  {
   "cell_type": "code",
   "execution_count": 52,
   "id": "2e5133f8",
   "metadata": {},
   "outputs": [],
   "source": [
    "#Write function and call as many times to check accuaracy_score of different models"
   ]
  },
  {
   "cell_type": "code",
   "execution_count": 53,
   "id": "ff0caae8",
   "metadata": {},
   "outputs": [],
   "source": [
    "def metrics_score(cnn,x_train,x_test,y_train,y_test,train=True):\n",
    "    if train:\n",
    "        y_pred=cnn.predict(x_train)\n",
    "        print(\"==================Training Score=================\")\n",
    "        print(\"Accuracy Score == >  \", accuracy_score(y_train,y_pred)*100)\n",
    "    elif train==False:\n",
    "        pred=cnn.predict(x_test)\n",
    "        print(\"=================Test Score======================\")\n",
    "        print(\"Accuracy Score===>  \",accuracy_score(y_test,pred)*100)\n",
    "        print(\"Classification Report==>\",classification_report(y_test,pred))\n"
   ]
  },
  {
   "cell_type": "code",
   "execution_count": 55,
   "id": "9595f28e",
   "metadata": {},
   "outputs": [],
   "source": [
    "#Intiate DecisionTressClassifier with new parameter and train\n",
    "\n",
    "cnn=DecisionTreeClassifier()"
   ]
  },
  {
   "cell_type": "code",
   "execution_count": 57,
   "id": "51a8a9c9",
   "metadata": {},
   "outputs": [
    {
     "data": {
      "text/plain": [
       "DecisionTreeClassifier()"
      ]
     },
     "execution_count": 57,
     "metadata": {},
     "output_type": "execute_result"
    }
   ],
   "source": [
    "#Traib the model\n",
    "cnn.fit(x_train,y_train)"
   ]
  },
  {
   "cell_type": "code",
   "execution_count": 59,
   "id": "895bbe6a",
   "metadata": {},
   "outputs": [
    {
     "name": "stdout",
     "output_type": "stream",
     "text": [
      "==================Training Score=================\n",
      "Accuracy Score == >   100.0\n",
      "=================Test Score======================\n",
      "Accuracy Score===>   60.5\n",
      "Classification Report==>               precision    recall  f1-score   support\n",
      "\n",
      "           3       0.00      0.00      0.00         1\n",
      "           4       0.00      0.00      0.00        11\n",
      "           5       0.66      0.73      0.69       166\n",
      "           6       0.62      0.56      0.59       160\n",
      "           7       0.52      0.56      0.54        57\n",
      "           8       0.00      0.00      0.00         5\n",
      "\n",
      "    accuracy                           0.60       400\n",
      "   macro avg       0.30      0.31      0.30       400\n",
      "weighted avg       0.60      0.60      0.60       400\n",
      "\n"
     ]
    }
   ],
   "source": [
    "#Call the function and pass dataset to check train and test score\n",
    "metrics_score(cnn,x_train,x_test,y_train,y_test,train=True)\n",
    "metrics_score(cnn,x_train,x_test,y_train,y_test,train=False)"
   ]
  },
  {
   "cell_type": "markdown",
   "id": "0e292a73",
   "metadata": {},
   "source": [
    "Q- In general which model pretend to overfit.\n",
    "\n",
    "\n",
    "Ans- Decision Tree . Because this is rule based algorithm . every is going to divided so possibilty is there overrfit problem.\n",
    "\n",
    "\n",
    "\n",
    "Q - You say decision tree is a good model, one of the best model so where is the use of that.\n",
    "\n",
    "\n",
    "Ans- So, we will apply some techniques to overcome this but that will take some time . they will take some cost . without hyperparameter tuning it will pretend to overfitting.\n",
    "\n",
    "\n",
    "\"Now we did not tune any parameter and we got 100%\""
   ]
  },
  {
   "attachments": {
    "Screenshot%20%28240%29.png": {
     "image/png": "[encoded data removed]"
    }
   },
   "cell_type": "markdown",
   "id": "4619561e",
   "metadata": {},
   "source": [
    "# Lets Understand the above tree:\n",
    "\n",
    "![Screenshot%20%28240%29.png](attachment:Screenshot%20%28240%29.png)\n",
    "\n",
    "- The first value indicates the column and the condition on which the root rode was selected and further will be splitted.\n",
    "\n",
    "\n",
    "- The second value gives the ginni impurity of the selected node\n",
    "\n",
    "\n",
    "- Samples gives the numbers of observation at that point present in the node.\n",
    "\n",
    "\n",
    "\n",
    "- Value with the square brackets represent number of observation present in each class (output) i.e in the above give figure,8 observation are in class 1-38 , in class2-468 snd so on.\n",
    "\n",
    "\n",
    "\n",
    "- Then the split was made on the basis of given condtion"
   ]
  },
  {
   "cell_type": "markdown",
   "id": "cf80a9e8",
   "metadata": {},
   "source": [
    "Root Node -  Alcohol feature is the top feature that contributes more to the label and we have seen this in heat map..\n",
    "\n",
    "\n",
    "\n",
    "Q- What basis we decided alcohol is best feature .\n",
    "\n",
    "Ans - Gini Indexing\n",
    "\n",
    "\n",
    "\n",
    "Q- What is sample ?\n",
    "\n",
    "Ans - Samples is when it is dividing yes or No based on some condition . so that time we have 1119  Samples.\n",
    "\n",
    "Sample is nothing but number of rows , number of observation all are same here . we called samples.\n",
    "\n",
    "\n",
    "\n",
    "Q- What are Values ?\n",
    "\n",
    "Ans- Out of these sample 1119, so 7 samples are associated and  b sample are classified as quality number 3.\n",
    "\n",
    "Values - 8,36,468,446,145,16\n",
    "\n",
    "\n",
    "Quality - 3,4,5,6,7,8"
   ]
  },
  {
   "cell_type": "markdown",
   "id": "8e4f5f66",
   "metadata": {},
   "source": [
    "Q - How it is dividing \n",
    "\n",
    "\n",
    "Ans- what is does alcohol take some numbers. and let say average .it has to divide this into True and False so it. will pick this number <=-0.069. so this will picked based on ginni.\n",
    "\n",
    "if alcohol level <=10.25 go  True side if this condition is False go False side. is this how journey will start.\n",
    "\n",
    "\n",
    "\n",
    "So out of this 1119 samples of the True and Some will False.\n",
    "\n",
    "\n",
    "\n",
    "Then the next feature or second highest feature is sulfur dioxide <=98.5. what wa the ginni indexing number -0.511 it will give all this information and samples =641\n",
    "\n",
    "\n",
    "Values - 5,23,408,183,20,2\n",
    "Quality - 3,4,5,6,7,8\n",
    "\n",
    "\n",
    "\n",
    "\n",
    "So it will keep on dividing unit last leaf node. leaf node is anywhere it does not need all the way down only.\n",
    "\n",
    "\n",
    "\n"
   ]
  },
  {
   "cell_type": "markdown",
   "id": "26b37aa3",
   "metadata": {},
   "source": [
    "Q - Lets Understand leaf node ?\n",
    "\n",
    "Ans - Same thing it will keep dividing so here you can see sample 4.\n",
    "\n",
    "Only one sample belongs to quality\n",
    "\n",
    " Values = [0,0,1,3,0,0]\n",
    " \n",
    " Quality = [0,0,5,6,0,0]  it will go until that point so these are all leaf.\n",
    " \n",
    " \n",
    " \n",
    " Q - Why we are calling leaf node - > Where Decision are being made,"
   ]
  },
  {
   "cell_type": "markdown",
   "id": "efa14bba",
   "metadata": {},
   "source": [
    "# Model Confidence / Accuracy\n",
    "\n",
    "\n",
    "Lets now try to tune some parameters using the GridSearchCV algorithm.\n",
    "\n",
    "\n",
    "GridSearchCV is a method used to tune our hyperparameter we can pass different values  of hyperparameter as parameter for grid search it does a exhaustive generation of combination of different  parameters  passed . using cross validation score , GridSearch returms the combination of hyperparameter for which the model is perfprminng the best."
   ]
  },
  {
   "cell_type": "markdown",
   "id": "c8447009",
   "metadata": {},
   "source": [
    "Q- What are hyper paramters ?\n",
    "\n",
    "\n",
    "DecisionTreeClassifier(class_weight=None,\n",
    "                      \n",
    "                      \n",
    "                      \n",
    "                      Criterion='gini,\n",
    "                       max_depth=None,\n",
    "                       Max_feature=None,Max_leaf_nodes=None,\n",
    "                       min_impurity_decreases=0.0, presort=False,\n",
    "                       random_state=None,splitter='best)\n",
    "                       \n",
    "                       \n",
    "\n",
    "We can see above the decision tree classifier algorithms takes all those parameters which are also know as hyperparameter.\n",
    "\n",
    "\n",
    "Let see the most importance ones of the parameter (as per sklearn documentation)"
   ]
  },
  {
   "cell_type": "code",
   "execution_count": 98,
   "id": "07dc6a13",
   "metadata": {},
   "outputs": [],
   "source": [
    "#We are tuning four important hyperparameter right now, we are passing the different values for both paramters.\n",
    "\n",
    "\n",
    "grid_param={\n",
    "    'criterion':['ginni','entropy'],\n",
    "    'max_depth': range(10,15),# The Maximum depth of the tree\n",
    "    'min_samples_leaf':range(2,6),#The maximum number of samples required to be at a leaf node\n",
    "    'min_samples_split':range(3,8),#The minimum numbers of sample required to split an internal node\n",
    "    'max_leaf_nodes':range(5,10)}#Best nodes are defined as them unlimited number of leaf nodes\n",
    "\n",
    "#criterian"
   ]
  },
  {
   "cell_type": "code",
   "execution_count": 103,
   "id": "95dc18aa",
   "metadata": {},
   "outputs": [],
   "source": [
    "grid_search=GridSearchCV(estimator=cnn,\n",
    "                         param_grid=grid_param,\n",
    "                         cv=5,\n",
    "                        n_jobs=-1)#use all the cores in your system for performance improvement .\n"
   ]
  },
  {
   "cell_type": "code",
   "execution_count": 104,
   "id": "d55c5649",
   "metadata": {},
   "outputs": [
    {
     "data": {
      "text/plain": [
       "GridSearchCV(cv=5, estimator=DecisionTreeClassifier(), n_jobs=-1,\n",
       "             param_grid={'criterion': ['ginni', 'entropy'],\n",
       "                         'max_depth': range(10, 15),\n",
       "                         'max_leaf_nodes': range(5, 10),\n",
       "                         'min_samples_leaf': range(2, 6),\n",
       "                         'min_samples_split': range(3, 8)})"
      ]
     },
     "execution_count": 104,
     "metadata": {},
     "output_type": "execute_result"
    }
   ],
   "source": [
    "grid_search.fit(x_train,y_train)"
   ]
  },
  {
   "cell_type": "code",
   "execution_count": 106,
   "id": "571be8f8",
   "metadata": {},
   "outputs": [
    {
     "name": "stdout",
     "output_type": "stream",
     "text": [
      "{'criterion': 'entropy', 'max_depth': 10, 'max_leaf_nodes': 9, 'min_samples_leaf': 2, 'min_samples_split': 3}\n"
     ]
    }
   ],
   "source": [
    "best_parameter=grid_search.best_params_\n",
    "print(best_parameter)"
   ]
  },
  {
   "cell_type": "code",
   "execution_count": 107,
   "id": "dfe70389",
   "metadata": {},
   "outputs": [],
   "source": [
    "#Initiate DecisionTreeClassifier with new parameter and train.\n",
    "\n",
    "cnn=DecisionTreeClassifier(criterion='entropy',max_depth=10,max_leaf_nodes=9,min_samples_split= 3)"
   ]
  },
  {
   "cell_type": "code",
   "execution_count": 108,
   "id": "4e098c78",
   "metadata": {},
   "outputs": [
    {
     "data": {
      "text/plain": [
       "DecisionTreeClassifier(criterion='entropy', max_depth=10, max_leaf_nodes=9,\n",
       "                       min_samples_split=3)"
      ]
     },
     "execution_count": 108,
     "metadata": {},
     "output_type": "execute_result"
    }
   ],
   "source": [
    "#Train the model\n",
    "cnn.fit(x_train,y_train)"
   ]
  },
  {
   "cell_type": "code",
   "execution_count": 109,
   "id": "3086f703",
   "metadata": {},
   "outputs": [
    {
     "name": "stdout",
     "output_type": "stream",
     "text": [
      "==================Training Score=================\n",
      "Accuracy Score == >   60.80066722268557\n",
      "=================Test Score======================\n",
      "Accuracy Score===>   56.99999999999999\n",
      "Classification Report==>               precision    recall  f1-score   support\n",
      "\n",
      "           3       0.00      0.00      0.00         1\n",
      "           4       0.00      0.00      0.00        11\n",
      "           5       0.69      0.65      0.67       166\n",
      "           6       0.52      0.62      0.56       160\n",
      "           7       0.49      0.37      0.42        57\n",
      "           8       0.00      0.00      0.00         5\n",
      "\n",
      "    accuracy                           0.57       400\n",
      "   macro avg       0.28      0.27      0.28       400\n",
      "weighted avg       0.56      0.57      0.56       400\n",
      "\n"
     ]
    }
   ],
   "source": [
    "#Call the function and pass dataset to check train and test score\n",
    "metrics_score(cnn,x_train,x_test,y_train,y_test,train=True)\n",
    "metrics_score(cnn,x_train,x_test,y_train,y_test,train=False)"
   ]
  },
  {
   "cell_type": "code",
   "execution_count": null,
   "id": "99254642",
   "metadata": {},
   "outputs": [],
   "source": [
    "#Student of DataScience\n",
    "#Student of DataTrained - Saurav\n",
    "#Date - 13-09-2022\n",
    "#Time- 21:11"
   ]
  }
 ],
 "metadata": {
  "kernelspec": {
   "display_name": "Python 3 (ipykernel)",
   "language": "python",
   "name": "python3"
  },
  "language_info": {
   "codemirror_mode": {
    "name": "ipython",
    "version": 3
   },
   "file_extension": ".py",
   "mimetype": "text/x-python",
   "name": "python",
   "nbconvert_exporter": "python",
   "pygments_lexer": "ipython3",
   "version": "3.9.12"
  }
 },
 "nbformat": 4,
 "nbformat_minor": 5
}
