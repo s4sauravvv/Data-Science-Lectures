{
 "cells": [
  {
   "cell_type": "markdown",
   "id": "3063814e",
   "metadata": {},
   "source": [
    "# Lecture 14\n",
    "# Pandas Continue"
   ]
  },
  {
   "cell_type": "markdown",
   "id": "62643642",
   "metadata": {},
   "source": [
    "# DataFrame Manipulation"
   ]
  },
  {
   "cell_type": "code",
   "execution_count": 3,
   "id": "94c30b6f",
   "metadata": {},
   "outputs": [],
   "source": [
    "#Lets Import imp libraries\n",
    "import numpy as np\n",
    "import pandas as pd\n",
    "import warnings\n",
    "warnings.filterwarnings('ignore')"
   ]
  },
  {
   "cell_type": "code",
   "execution_count": 16,
   "id": "7f7505dc",
   "metadata": {},
   "outputs": [],
   "source": [
    "matrix_data=np.matrix('22,66,140;42,72,148;30,62,125;35,68,160;25,62,152')\n",
    "row_labels=['Raju','Pandey','Srini','Sunil','Ashok']\n",
    "column_headings=['Age','Height','Weight']"
   ]
  },
  {
   "cell_type": "code",
   "execution_count": 18,
   "id": "92371800",
   "metadata": {},
   "outputs": [
    {
     "name": "stdout",
     "output_type": "stream",
     "text": [
      "\n",
      " A new DataFrame \n",
      "-------------------------\n",
      "        Age  Height  Weight\n",
      "Raju     22      66     140\n",
      "Pandey   42      72     148\n",
      "Srini    30      62     125\n",
      "Sunil    35      68     160\n",
      "Ashok    25      62     152\n"
     ]
    }
   ],
   "source": [
    "df=pd.DataFrame(data=matrix_data,index=row_labels,columns=column_headings)\n",
    "print('\\n A new DataFrame \\n','-'*25,sep='')\n",
    "print(df)"
   ]
  },
  {
   "cell_type": "code",
   "execution_count": 19,
   "id": "6337218d",
   "metadata": {},
   "outputs": [],
   "source": [
    "#How we can only print Height and Weight"
   ]
  },
  {
   "cell_type": "code",
   "execution_count": 20,
   "id": "19f170e7",
   "metadata": {},
   "outputs": [],
   "source": [
    "only_ht_wt=df[['Height','Weight']]"
   ]
  },
  {
   "cell_type": "code",
   "execution_count": 23,
   "id": "48e88a9b",
   "metadata": {},
   "outputs": [
    {
     "data": {
      "text/html": [
       "<div>\n",
       "<style scoped>\n",
       "    .dataframe tbody tr th:only-of-type {\n",
       "        vertical-align: middle;\n",
       "    }\n",
       "\n",
       "    .dataframe tbody tr th {\n",
       "        vertical-align: top;\n",
       "    }\n",
       "\n",
       "    .dataframe thead th {\n",
       "        text-align: right;\n",
       "    }\n",
       "</style>\n",
       "<table border=\"1\" class=\"dataframe\">\n",
       "  <thead>\n",
       "    <tr style=\"text-align: right;\">\n",
       "      <th></th>\n",
       "      <th>Height</th>\n",
       "      <th>Weight</th>\n",
       "    </tr>\n",
       "  </thead>\n",
       "  <tbody>\n",
       "    <tr>\n",
       "      <th>Raju</th>\n",
       "      <td>66</td>\n",
       "      <td>140</td>\n",
       "    </tr>\n",
       "    <tr>\n",
       "      <th>Pandey</th>\n",
       "      <td>72</td>\n",
       "      <td>148</td>\n",
       "    </tr>\n",
       "    <tr>\n",
       "      <th>Srini</th>\n",
       "      <td>62</td>\n",
       "      <td>125</td>\n",
       "    </tr>\n",
       "    <tr>\n",
       "      <th>Sunil</th>\n",
       "      <td>68</td>\n",
       "      <td>160</td>\n",
       "    </tr>\n",
       "    <tr>\n",
       "      <th>Ashok</th>\n",
       "      <td>62</td>\n",
       "      <td>152</td>\n",
       "    </tr>\n",
       "  </tbody>\n",
       "</table>\n",
       "</div>"
      ],
      "text/plain": [
       "        Height  Weight\n",
       "Raju        66     140\n",
       "Pandey      72     148\n",
       "Srini       62     125\n",
       "Sunil       68     160\n",
       "Ashok       62     152"
      ]
     },
     "execution_count": 23,
     "metadata": {},
     "output_type": "execute_result"
    }
   ],
   "source": [
    "only_ht_wt"
   ]
  },
  {
   "cell_type": "code",
   "execution_count": 25,
   "id": "21aafe91",
   "metadata": {},
   "outputs": [],
   "source": [
    "#Print Age by . method('Generally it would'nt Use)"
   ]
  },
  {
   "cell_type": "code",
   "execution_count": 28,
   "id": "18d68137",
   "metadata": {},
   "outputs": [
    {
     "name": "stdout",
     "output_type": "stream",
     "text": [
      "\n",
      " 'Age' accessed by Dot Method (Not Recommended)\n",
      "-------------------------------------------------------\n",
      "Raju      22\n",
      "Pandey    42\n",
      "Srini     30\n",
      "Sunil     35\n",
      "Ashok     25\n",
      "Name: Age, dtype: int32\n"
     ]
    }
   ],
   "source": [
    "print(\"\\n 'Age' accessed by Dot Method (Not Recommended)\\n\",'-'*55,sep='')\n",
    "print(df.Age)#You can Access only column at a time"
   ]
  },
  {
   "cell_type": "markdown",
   "id": "03b76666",
   "metadata": {},
   "source": [
    "Lets Understand Slicing Particular Element"
   ]
  },
  {
   "cell_type": "code",
   "execution_count": 29,
   "id": "71d71b7e",
   "metadata": {},
   "outputs": [],
   "source": [
    "#Select particular index data using loc(index name) loc=Locate"
   ]
  },
  {
   "cell_type": "code",
   "execution_count": 30,
   "id": "d011209d",
   "metadata": {},
   "outputs": [
    {
     "data": {
      "text/plain": [
       "Age        22\n",
       "Height     66\n",
       "Weight    140\n",
       "Name: Raju, dtype: int32"
      ]
     },
     "execution_count": 30,
     "metadata": {},
     "output_type": "execute_result"
    }
   ],
   "source": [
    "df.loc['Raju']"
   ]
  },
  {
   "cell_type": "code",
   "execution_count": 31,
   "id": "70affe31",
   "metadata": {},
   "outputs": [],
   "source": [
    "#Select Particular index data using iloc(index position) iloc=index Locate"
   ]
  },
  {
   "cell_type": "code",
   "execution_count": 34,
   "id": "5b81bd27",
   "metadata": {},
   "outputs": [
    {
     "data": {
      "text/plain": [
       "Age        22\n",
       "Height     66\n",
       "Weight    140\n",
       "Name: Raju, dtype: int32"
      ]
     },
     "execution_count": 34,
     "metadata": {},
     "output_type": "execute_result"
    }
   ],
   "source": [
    "df.iloc[0]"
   ]
  },
  {
   "cell_type": "code",
   "execution_count": 35,
   "id": "8de83995",
   "metadata": {},
   "outputs": [
    {
     "name": "stdout",
     "output_type": "stream",
     "text": [
      "        Age  Height  Weight\n",
      "Raju     22      66     140\n",
      "Pandey   42      72     148\n",
      "Srini    30      62     125\n",
      "Sunil    35      68     160\n",
      "Ashok    25      62     152\n"
     ]
    }
   ],
   "source": [
    "print(df)"
   ]
  },
  {
   "cell_type": "code",
   "execution_count": 36,
   "id": "7a558aeb",
   "metadata": {},
   "outputs": [],
   "source": [
    "#Select index and column for a particular data"
   ]
  },
  {
   "cell_type": "code",
   "execution_count": 37,
   "id": "56c7d382",
   "metadata": {},
   "outputs": [
    {
     "name": "stdout",
     "output_type": "stream",
     "text": [
      "/n select index and column for a particular data \n",
      "\n",
      "72\n"
     ]
    }
   ],
   "source": [
    "print(\"/n select index and column for a particular data \\n\")\n",
    "print(df.loc['Pandey','Height'])"
   ]
  },
  {
   "cell_type": "code",
   "execution_count": 38,
   "id": "df7d7e05",
   "metadata": {},
   "outputs": [],
   "source": [
    "#Select Index and list of column data\\n"
   ]
  },
  {
   "cell_type": "code",
   "execution_count": 39,
   "id": "3f2c32d8",
   "metadata": {},
   "outputs": [
    {
     "name": "stdout",
     "output_type": "stream",
     "text": [
      "\n",
      " Select Index and list of column data\n",
      "\n",
      "Height     62\n",
      "Weight    152\n",
      "Name: Ashok, dtype: int32\n"
     ]
    }
   ],
   "source": [
    "print(\"\\n Select Index and list of column data\\n\")\n",
    "print(df.loc['Ashok',['Height','Weight']])"
   ]
  },
  {
   "cell_type": "code",
   "execution_count": 40,
   "id": "a7a4707a",
   "metadata": {},
   "outputs": [],
   "source": [
    "#Select list of index and column data"
   ]
  },
  {
   "cell_type": "code",
   "execution_count": 41,
   "id": "9b56f166",
   "metadata": {},
   "outputs": [
    {
     "name": "stdout",
     "output_type": "stream",
     "text": [
      "\n",
      " Select List of index and column data \n",
      "\n",
      "        Age  Weight\n",
      "Pandey   42     148\n",
      "Sunil    35     160\n"
     ]
    }
   ],
   "source": [
    "print(\"\\n Select List of index and column data \\n\")\n",
    "print(df.loc[['Pandey','Sunil'],['Age','Weight']])"
   ]
  },
  {
   "cell_type": "code",
   "execution_count": 42,
   "id": "7d11fc4a",
   "metadata": {},
   "outputs": [],
   "source": [
    "#Check original df"
   ]
  },
  {
   "cell_type": "code",
   "execution_count": 43,
   "id": "dcd65232",
   "metadata": {},
   "outputs": [
    {
     "data": {
      "text/html": [
       "<div>\n",
       "<style scoped>\n",
       "    .dataframe tbody tr th:only-of-type {\n",
       "        vertical-align: middle;\n",
       "    }\n",
       "\n",
       "    .dataframe tbody tr th {\n",
       "        vertical-align: top;\n",
       "    }\n",
       "\n",
       "    .dataframe thead th {\n",
       "        text-align: right;\n",
       "    }\n",
       "</style>\n",
       "<table border=\"1\" class=\"dataframe\">\n",
       "  <thead>\n",
       "    <tr style=\"text-align: right;\">\n",
       "      <th></th>\n",
       "      <th>Age</th>\n",
       "      <th>Height</th>\n",
       "      <th>Weight</th>\n",
       "    </tr>\n",
       "  </thead>\n",
       "  <tbody>\n",
       "    <tr>\n",
       "      <th>Raju</th>\n",
       "      <td>22</td>\n",
       "      <td>66</td>\n",
       "      <td>140</td>\n",
       "    </tr>\n",
       "    <tr>\n",
       "      <th>Pandey</th>\n",
       "      <td>42</td>\n",
       "      <td>72</td>\n",
       "      <td>148</td>\n",
       "    </tr>\n",
       "    <tr>\n",
       "      <th>Srini</th>\n",
       "      <td>30</td>\n",
       "      <td>62</td>\n",
       "      <td>125</td>\n",
       "    </tr>\n",
       "    <tr>\n",
       "      <th>Sunil</th>\n",
       "      <td>35</td>\n",
       "      <td>68</td>\n",
       "      <td>160</td>\n",
       "    </tr>\n",
       "    <tr>\n",
       "      <th>Ashok</th>\n",
       "      <td>25</td>\n",
       "      <td>62</td>\n",
       "      <td>152</td>\n",
       "    </tr>\n",
       "  </tbody>\n",
       "</table>\n",
       "</div>"
      ],
      "text/plain": [
       "        Age  Height  Weight\n",
       "Raju     22      66     140\n",
       "Pandey   42      72     148\n",
       "Srini    30      62     125\n",
       "Sunil    35      68     160\n",
       "Ashok    25      62     152"
      ]
     },
     "execution_count": 43,
     "metadata": {},
     "output_type": "execute_result"
    }
   ],
   "source": [
    "df"
   ]
  },
  {
   "cell_type": "markdown",
   "id": "2af8d351",
   "metadata": {},
   "source": [
    "# Select data on condition"
   ]
  },
  {
   "cell_type": "code",
   "execution_count": 45,
   "id": "734721e6",
   "metadata": {},
   "outputs": [],
   "source": [
    "#Check wheather height in greater then 65"
   ]
  },
  {
   "cell_type": "code",
   "execution_count": 44,
   "id": "9abd13b9",
   "metadata": {},
   "outputs": [
    {
     "name": "stdout",
     "output_type": "stream",
     "text": [
      "\n",
      " Rows with Height >65 inch \n",
      " -----------------------------------\n",
      "        Age  Height  Weight\n",
      "Raju     22      66     140\n",
      "Pandey   42      72     148\n",
      "Sunil    35      68     160\n"
     ]
    }
   ],
   "source": [
    "print(\"\\n Rows with Height >65 inch \\n\",'-'*35)\n",
    "print(df[df['Height']>65])"
   ]
  },
  {
   "cell_type": "code",
   "execution_count": 47,
   "id": "39155c5a",
   "metadata": {},
   "outputs": [],
   "source": [
    "booldf1=df['Height']>65\n",
    "booldf2=df['Weight']>145"
   ]
  },
  {
   "cell_type": "code",
   "execution_count": 48,
   "id": "6b6b1a97",
   "metadata": {},
   "outputs": [],
   "source": [
    "#Select Rows with Height >65 inch and Weight >145 lbs"
   ]
  },
  {
   "cell_type": "code",
   "execution_count": 52,
   "id": "ead4a30f",
   "metadata": {},
   "outputs": [
    {
     "name": "stdout",
     "output_type": "stream",
     "text": [
      "\n",
      " Select With Height >65 inch and weight >145\n",
      "--------------------------------------------------------------------\n",
      "        Age  Height  Weight\n",
      "Pandey   42      72     148\n",
      "Sunil    35      68     160\n"
     ]
    }
   ],
   "source": [
    "print(\"\\n Select With Height >65 inch and weight >145\\n\",'-'*68,sep='')\n",
    "print(df[(booldf1)& (booldf2)])"
   ]
  },
  {
   "cell_type": "code",
   "execution_count": 53,
   "id": "e74a169b",
   "metadata": {},
   "outputs": [],
   "source": [
    "#DataFrame with only Age and Weight Columns Whose Height>65 inch"
   ]
  },
  {
   "cell_type": "code",
   "execution_count": 54,
   "id": "a3fb9794",
   "metadata": {},
   "outputs": [
    {
     "name": "stdout",
     "output_type": "stream",
     "text": [
      "\n",
      " DataFrame With only AgE And Weight columns whose Height >65 inch \n",
      "------------------------------------------------------------\n",
      "        Age  Weight\n",
      "Raju     22     140\n",
      "Pandey   42     148\n",
      "Sunil    35     160\n"
     ]
    }
   ],
   "source": [
    "print(\"\\n DataFrame With only AgE And Weight columns whose Height >65 inch \\n\",'-'*60,sep='')\n",
    "print(df[booldf1][['Age','Weight']])"
   ]
  },
  {
   "cell_type": "code",
   "execution_count": 57,
   "id": "d5ba1175",
   "metadata": {},
   "outputs": [],
   "source": [
    "#create new variable and assign the booldf1 and save in new variable"
   ]
  },
  {
   "cell_type": "code",
   "execution_count": 56,
   "id": "11e52c0e",
   "metadata": {},
   "outputs": [
    {
     "data": {
      "text/html": [
       "<div>\n",
       "<style scoped>\n",
       "    .dataframe tbody tr th:only-of-type {\n",
       "        vertical-align: middle;\n",
       "    }\n",
       "\n",
       "    .dataframe tbody tr th {\n",
       "        vertical-align: top;\n",
       "    }\n",
       "\n",
       "    .dataframe thead th {\n",
       "        text-align: right;\n",
       "    }\n",
       "</style>\n",
       "<table border=\"1\" class=\"dataframe\">\n",
       "  <thead>\n",
       "    <tr style=\"text-align: right;\">\n",
       "      <th></th>\n",
       "      <th>Age</th>\n",
       "      <th>Weight</th>\n",
       "    </tr>\n",
       "  </thead>\n",
       "  <tbody>\n",
       "    <tr>\n",
       "      <th>Raju</th>\n",
       "      <td>22</td>\n",
       "      <td>140</td>\n",
       "    </tr>\n",
       "    <tr>\n",
       "      <th>Pandey</th>\n",
       "      <td>42</td>\n",
       "      <td>148</td>\n",
       "    </tr>\n",
       "    <tr>\n",
       "      <th>Sunil</th>\n",
       "      <td>35</td>\n",
       "      <td>160</td>\n",
       "    </tr>\n",
       "  </tbody>\n",
       "</table>\n",
       "</div>"
      ],
      "text/plain": [
       "        Age  Weight\n",
       "Raju     22     140\n",
       "Pandey   42     148\n",
       "Sunil    35     160"
      ]
     },
     "execution_count": 56,
     "metadata": {},
     "output_type": "execute_result"
    }
   ],
   "source": [
    "selected_candidates=df[booldf1][['Age','Weight']]\n",
    "selected_candidates"
   ]
  },
  {
   "cell_type": "code",
   "execution_count": 58,
   "id": "f4bc22e9",
   "metadata": {},
   "outputs": [],
   "source": [
    "#lets check df"
   ]
  },
  {
   "cell_type": "code",
   "execution_count": 59,
   "id": "3cba0a42",
   "metadata": {},
   "outputs": [
    {
     "data": {
      "text/html": [
       "<div>\n",
       "<style scoped>\n",
       "    .dataframe tbody tr th:only-of-type {\n",
       "        vertical-align: middle;\n",
       "    }\n",
       "\n",
       "    .dataframe tbody tr th {\n",
       "        vertical-align: top;\n",
       "    }\n",
       "\n",
       "    .dataframe thead th {\n",
       "        text-align: right;\n",
       "    }\n",
       "</style>\n",
       "<table border=\"1\" class=\"dataframe\">\n",
       "  <thead>\n",
       "    <tr style=\"text-align: right;\">\n",
       "      <th></th>\n",
       "      <th>Age</th>\n",
       "      <th>Height</th>\n",
       "      <th>Weight</th>\n",
       "    </tr>\n",
       "  </thead>\n",
       "  <tbody>\n",
       "    <tr>\n",
       "      <th>Raju</th>\n",
       "      <td>22</td>\n",
       "      <td>66</td>\n",
       "      <td>140</td>\n",
       "    </tr>\n",
       "    <tr>\n",
       "      <th>Pandey</th>\n",
       "      <td>42</td>\n",
       "      <td>72</td>\n",
       "      <td>148</td>\n",
       "    </tr>\n",
       "    <tr>\n",
       "      <th>Srini</th>\n",
       "      <td>30</td>\n",
       "      <td>62</td>\n",
       "      <td>125</td>\n",
       "    </tr>\n",
       "    <tr>\n",
       "      <th>Sunil</th>\n",
       "      <td>35</td>\n",
       "      <td>68</td>\n",
       "      <td>160</td>\n",
       "    </tr>\n",
       "    <tr>\n",
       "      <th>Ashok</th>\n",
       "      <td>25</td>\n",
       "      <td>62</td>\n",
       "      <td>152</td>\n",
       "    </tr>\n",
       "  </tbody>\n",
       "</table>\n",
       "</div>"
      ],
      "text/plain": [
       "        Age  Height  Weight\n",
       "Raju     22      66     140\n",
       "Pandey   42      72     148\n",
       "Srini    30      62     125\n",
       "Sunil    35      68     160\n",
       "Ashok    25      62     152"
      ]
     },
     "execution_count": 59,
     "metadata": {},
     "output_type": "execute_result"
    }
   ],
   "source": [
    "df"
   ]
  },
  {
   "cell_type": "code",
   "execution_count": 60,
   "id": "51a339e5",
   "metadata": {},
   "outputs": [],
   "source": [
    "#Lets Know About resetting Index"
   ]
  },
  {
   "cell_type": "code",
   "execution_count": 61,
   "id": "e42f4668",
   "metadata": {},
   "outputs": [
    {
     "name": "stdout",
     "output_type": "stream",
     "text": [
      "\n",
      " After resetting index \n",
      " -----------------------------------\n",
      "    index  Age  Height  Weight\n",
      "0    Raju   22      66     140\n",
      "1  Pandey   42      72     148\n",
      "2   Srini   30      62     125\n",
      "3   Sunil   35      68     160\n",
      "4   Ashok   25      62     152\n"
     ]
    }
   ],
   "source": [
    "print(\"\\n After resetting index \\n\",'-'*35)\n",
    "print(df.reset_index())"
   ]
  },
  {
   "cell_type": "code",
   "execution_count": 62,
   "id": "eb12f4e0",
   "metadata": {},
   "outputs": [],
   "source": [
    "#Lets Print whose age in <35"
   ]
  },
  {
   "cell_type": "code",
   "execution_count": 65,
   "id": "2d9dcdda",
   "metadata": {},
   "outputs": [
    {
     "name": "stdout",
     "output_type": "stream",
     "text": [
      "\n",
      " Rows with age <35 year\n",
      "-----------------------------------\n",
      "       Age  Height  Weight\n",
      "Raju    22      66     140\n",
      "Srini   30      62     125\n",
      "Ashok   25      62     152\n"
     ]
    }
   ],
   "source": [
    "print(\"\\n Rows with age <35 year\\n\",'-'*35,sep='')\n",
    "df=df[df['Age']<35]\n",
    "print(df)"
   ]
  },
  {
   "cell_type": "code",
   "execution_count": 66,
   "id": "c3fe9edc",
   "metadata": {},
   "outputs": [],
   "source": [
    "#After resetting index with drop"
   ]
  },
  {
   "cell_type": "code",
   "execution_count": 67,
   "id": "0cfa7e58",
   "metadata": {},
   "outputs": [
    {
     "name": "stdout",
     "output_type": "stream",
     "text": [
      "\n",
      " After Resetting index with 'drop' option True \n",
      "-----------------------------------\n",
      "   Age  Height  Weight\n",
      "0   22      66     140\n",
      "1   30      62     125\n",
      "2   25      62     152\n"
     ]
    }
   ],
   "source": [
    "print(\"\\n After Resetting index with 'drop' option True \\n\",'-'*35,sep='')\n",
    "print(df.reset_index(drop=True))"
   ]
  },
  {
   "cell_type": "code",
   "execution_count": 68,
   "id": "c199b010",
   "metadata": {},
   "outputs": [],
   "source": [
    "#Add new Column Profession"
   ]
  },
  {
   "cell_type": "code",
   "execution_count": 71,
   "id": "e5b56465",
   "metadata": {},
   "outputs": [
    {
     "name": "stdout",
     "output_type": "stream",
     "text": [
      "\n",
      " Adding a new column 'Profession' \n",
      " ---------------------------------------------\n",
      "       Age  Height  Weight Profession\n",
      "Raju    22      66     140    Student\n",
      "Srini   30      62     125    Teacher\n",
      "Ashok   25      62     152   Engineed\n"
     ]
    }
   ],
   "source": [
    "print(\"\\n Adding a new column 'Profession' \\n\",'-'*45,sep=' ')\n",
    "df['Profession']='Student Teacher Engineed'.split( )\n",
    "print(df)"
   ]
  },
  {
   "cell_type": "code",
   "execution_count": 72,
   "id": "a817b569",
   "metadata": {},
   "outputs": [],
   "source": [
    "#Set 'profession' as index"
   ]
  },
  {
   "cell_type": "code",
   "execution_count": 73,
   "id": "97f628bf",
   "metadata": {},
   "outputs": [
    {
     "name": "stdout",
     "output_type": "stream",
     "text": [
      "\n",
      " Setting 'Profession' column as index \n",
      "---------------------------------------------\n",
      "            Age  Height  Weight\n",
      "Profession                     \n",
      "Student      22      66     140\n",
      "Teacher      30      62     125\n",
      "Engineed     25      62     152\n"
     ]
    }
   ],
   "source": [
    "print(\"\\n Setting 'Profession' column as index \\n\",'-'*45,sep='')\n",
    "print(df.set_index('Profession'))"
   ]
  },
  {
   "cell_type": "markdown",
   "id": "e9011998",
   "metadata": {},
   "source": [
    "# Pandas With SQL"
   ]
  },
  {
   "cell_type": "code",
   "execution_count": 75,
   "id": "5ee37c87",
   "metadata": {},
   "outputs": [],
   "source": [
    "import sqlite3"
   ]
  },
  {
   "cell_type": "code",
   "execution_count": 76,
   "id": "a454ddd6",
   "metadata": {},
   "outputs": [],
   "source": [
    "#Connecting with the database (If there is no database exist ,It will create one)"
   ]
  },
  {
   "cell_type": "code",
   "execution_count": 77,
   "id": "198e299f",
   "metadata": {},
   "outputs": [],
   "source": [
    "db=sqlite3.connect('my_testbase.db')"
   ]
  },
  {
   "cell_type": "code",
   "execution_count": 79,
   "id": "1a6d33e1",
   "metadata": {},
   "outputs": [],
   "source": [
    "#Declare cursor"
   ]
  },
  {
   "cell_type": "code",
   "execution_count": 80,
   "id": "7756b0d7",
   "metadata": {},
   "outputs": [],
   "source": [
    "cursor=db.cursor()"
   ]
  },
  {
   "cell_type": "markdown",
   "id": "a8612367",
   "metadata": {},
   "source": [
    "# If you want to read directly from github and use the file in SQL\n",
    "1- Read The File using Pandas\n",
    "\n",
    "\n",
    "\n",
    "2-Export to csv file with index is set to False\n",
    "\n",
    "\n",
    "\n",
    "\n",
    "\n",
    "3-Use the same file saved in 2nd step.check example below"
   ]
  },
  {
   "cell_type": "code",
   "execution_count": 81,
   "id": "0a8eb2f0",
   "metadata": {},
   "outputs": [],
   "source": [
    "import pandas as pd\n",
    "stud_det=pd.read_csv(\"https://raw.githubusercontent.com/training-ml/Files/main/Students_details.csv\",sep=\",\")"
   ]
  },
  {
   "cell_type": "code",
   "execution_count": 83,
   "id": "a6086728",
   "metadata": {},
   "outputs": [],
   "source": [
    "stud_det.to_csv('students_details.csv',index=False)"
   ]
  },
  {
   "cell_type": "code",
   "execution_count": 84,
   "id": "ab4bd592",
   "metadata": {},
   "outputs": [
    {
     "data": {
      "text/html": [
       "<div>\n",
       "<style scoped>\n",
       "    .dataframe tbody tr th:only-of-type {\n",
       "        vertical-align: middle;\n",
       "    }\n",
       "\n",
       "    .dataframe tbody tr th {\n",
       "        vertical-align: top;\n",
       "    }\n",
       "\n",
       "    .dataframe thead th {\n",
       "        text-align: right;\n",
       "    }\n",
       "</style>\n",
       "<table border=\"1\" class=\"dataframe\">\n",
       "  <thead>\n",
       "    <tr style=\"text-align: right;\">\n",
       "      <th></th>\n",
       "      <th>9988776604</th>\n",
       "      <th>Salah</th>\n",
       "      <th>03-10-2020</th>\n",
       "      <th>85</th>\n",
       "    </tr>\n",
       "  </thead>\n",
       "  <tbody>\n",
       "    <tr>\n",
       "      <th>0</th>\n",
       "      <td>9988776605</td>\n",
       "      <td>Heung-Son</td>\n",
       "      <td>21-06-2020</td>\n",
       "      <td>39</td>\n",
       "    </tr>\n",
       "    <tr>\n",
       "      <th>1</th>\n",
       "      <td>9988776606</td>\n",
       "      <td>Ronaldo</td>\n",
       "      <td>08-05-2020</td>\n",
       "      <td>86</td>\n",
       "    </tr>\n",
       "    <tr>\n",
       "      <th>2</th>\n",
       "      <td>9988776607</td>\n",
       "      <td>Kane</td>\n",
       "      <td>11-05-2022</td>\n",
       "      <td>57</td>\n",
       "    </tr>\n",
       "    <tr>\n",
       "      <th>3</th>\n",
       "      <td>9988776608</td>\n",
       "      <td>Mane</td>\n",
       "      <td>17-05-2022</td>\n",
       "      <td>52</td>\n",
       "    </tr>\n",
       "    <tr>\n",
       "      <th>4</th>\n",
       "      <td>6609998877</td>\n",
       "      <td>Vardy</td>\n",
       "      <td>17-12-2020</td>\n",
       "      <td>54</td>\n",
       "    </tr>\n",
       "    <tr>\n",
       "      <th>5</th>\n",
       "      <td>6609998878</td>\n",
       "      <td>Jota</td>\n",
       "      <td>06-11-2021</td>\n",
       "      <td>45</td>\n",
       "    </tr>\n",
       "    <tr>\n",
       "      <th>6</th>\n",
       "      <td>6609998879</td>\n",
       "      <td>Bruyne</td>\n",
       "      <td>26-11-2020</td>\n",
       "      <td>49</td>\n",
       "    </tr>\n",
       "    <tr>\n",
       "      <th>7</th>\n",
       "      <td>6609998880</td>\n",
       "      <td>Zaha</td>\n",
       "      <td>05-12-2020</td>\n",
       "      <td>88</td>\n",
       "    </tr>\n",
       "    <tr>\n",
       "      <th>8</th>\n",
       "      <td>6609998881</td>\n",
       "      <td>Sterling</td>\n",
       "      <td>29-10-2020</td>\n",
       "      <td>61</td>\n",
       "    </tr>\n",
       "    <tr>\n",
       "      <th>9</th>\n",
       "      <td>9988776614</td>\n",
       "      <td>Toney</td>\n",
       "      <td>31-03-2022</td>\n",
       "      <td>71</td>\n",
       "    </tr>\n",
       "    <tr>\n",
       "      <th>10</th>\n",
       "      <td>9988776615</td>\n",
       "      <td>Maddison</td>\n",
       "      <td>10-03-2020</td>\n",
       "      <td>44</td>\n",
       "    </tr>\n",
       "    <tr>\n",
       "      <th>11</th>\n",
       "      <td>1687799866</td>\n",
       "      <td>Bowen</td>\n",
       "      <td>14-02-2021</td>\n",
       "      <td>96</td>\n",
       "    </tr>\n",
       "    <tr>\n",
       "      <th>12</th>\n",
       "      <td>1687799867</td>\n",
       "      <td>Saka</td>\n",
       "      <td>19-12-2022</td>\n",
       "      <td>92</td>\n",
       "    </tr>\n",
       "    <tr>\n",
       "      <th>13</th>\n",
       "      <td>1687799868</td>\n",
       "      <td>Watkins</td>\n",
       "      <td>30-01-2021</td>\n",
       "      <td>49</td>\n",
       "    </tr>\n",
       "    <tr>\n",
       "      <th>14</th>\n",
       "      <td>1687799869</td>\n",
       "      <td>Mount</td>\n",
       "      <td>16-09-2022</td>\n",
       "      <td>48</td>\n",
       "    </tr>\n",
       "    <tr>\n",
       "      <th>15</th>\n",
       "      <td>1687799870</td>\n",
       "      <td>Raphael</td>\n",
       "      <td>15-05-2021</td>\n",
       "      <td>50</td>\n",
       "    </tr>\n",
       "    <tr>\n",
       "      <th>16</th>\n",
       "      <td>1687799871</td>\n",
       "      <td>Mahrez</td>\n",
       "      <td>30-10-2021</td>\n",
       "      <td>72</td>\n",
       "    </tr>\n",
       "    <tr>\n",
       "      <th>17</th>\n",
       "      <td>9988776622</td>\n",
       "      <td>Pukki</td>\n",
       "      <td>19-02-2021</td>\n",
       "      <td>93</td>\n",
       "    </tr>\n",
       "    <tr>\n",
       "      <th>18</th>\n",
       "      <td>9988776623</td>\n",
       "      <td>Fernandes</td>\n",
       "      <td>01-03-2022</td>\n",
       "      <td>94</td>\n",
       "    </tr>\n",
       "  </tbody>\n",
       "</table>\n",
       "</div>"
      ],
      "text/plain": [
       "    9988776604      Salah  03-10-2020  85\n",
       "0   9988776605  Heung-Son  21-06-2020  39\n",
       "1   9988776606    Ronaldo  08-05-2020  86\n",
       "2   9988776607       Kane  11-05-2022  57\n",
       "3   9988776608       Mane  17-05-2022  52\n",
       "4   6609998877      Vardy  17-12-2020  54\n",
       "5   6609998878       Jota  06-11-2021  45\n",
       "6   6609998879     Bruyne  26-11-2020  49\n",
       "7   6609998880       Zaha  05-12-2020  88\n",
       "8   6609998881   Sterling  29-10-2020  61\n",
       "9   9988776614      Toney  31-03-2022  71\n",
       "10  9988776615   Maddison  10-03-2020  44\n",
       "11  1687799866      Bowen  14-02-2021  96\n",
       "12  1687799867       Saka  19-12-2022  92\n",
       "13  1687799868    Watkins  30-01-2021  49\n",
       "14  1687799869      Mount  16-09-2022  48\n",
       "15  1687799870    Raphael  15-05-2021  50\n",
       "16  1687799871     Mahrez  30-10-2021  72\n",
       "17  9988776622      Pukki  19-02-2021  93\n",
       "18  9988776623  Fernandes  01-03-2022  94"
      ]
     },
     "execution_count": 84,
     "metadata": {},
     "output_type": "execute_result"
    }
   ],
   "source": [
    "stud_det"
   ]
  },
  {
   "cell_type": "code",
   "execution_count": 85,
   "id": "d1cd6bde",
   "metadata": {},
   "outputs": [],
   "source": [
    "#Create one More Table"
   ]
  },
  {
   "cell_type": "code",
   "execution_count": 86,
   "id": "ce334659",
   "metadata": {},
   "outputs": [
    {
     "data": {
      "text/plain": [
       "<sqlite3.Cursor at 0x2cbe73d3ce0>"
      ]
     },
     "execution_count": 86,
     "metadata": {},
     "output_type": "execute_result"
    }
   ],
   "source": [
    "cursor.execute(\"create table stud_det(phone_number int primary key,student_name text,enrolled_date text,marks int)\")"
   ]
  },
  {
   "cell_type": "code",
   "execution_count": 87,
   "id": "5086d9b3",
   "metadata": {},
   "outputs": [],
   "source": [
    "#Inserting Records From Csv file."
   ]
  },
  {
   "cell_type": "code",
   "execution_count": 89,
   "id": "05379597",
   "metadata": {},
   "outputs": [
    {
     "name": "stdout",
     "output_type": "stream",
     "text": [
      "20 Record(s) Inserted\n"
     ]
    }
   ],
   "source": [
    "with open(\"students_details.csv\",'r')as file:\n",
    "    no_records=0\n",
    "    for row in file:\n",
    "        cursor.execute(\"insert into stud_det values(?,?,?,?)\",row.split(\",\"))\n",
    "        no_records +=1\n",
    "print(no_records,'Record(s) Inserted')"
   ]
  },
  {
   "cell_type": "code",
   "execution_count": 90,
   "id": "5ca365ab",
   "metadata": {},
   "outputs": [],
   "source": [
    "#Verify if records inserted"
   ]
  },
  {
   "cell_type": "code",
   "execution_count": 91,
   "id": "74797e01",
   "metadata": {},
   "outputs": [
    {
     "name": "stdout",
     "output_type": "stream",
     "text": [
      "(9988776604, 'Salah', '03-10-2020', 85)\n",
      "(9988776605, 'Heung-Son', '21-06-2020', 39)\n",
      "(9988776606, 'Ronaldo', '08-05-2020', 86)\n",
      "(9988776607, 'Kane', '11-05-2022', 57)\n",
      "(9988776608, 'Mane', '17-05-2022', 52)\n",
      "(6609998877, 'Vardy', '17-12-2020', 54)\n",
      "(6609998878, 'Jota', '06-11-2021', 45)\n",
      "(6609998879, 'Bruyne', '26-11-2020', 49)\n",
      "(6609998880, 'Zaha', '05-12-2020', 88)\n",
      "(6609998881, 'Sterling', '29-10-2020', 61)\n",
      "(9988776614, 'Toney', '31-03-2022', 71)\n",
      "(9988776615, 'Maddison', '10-03-2020', 44)\n",
      "(1687799866, 'Bowen', '14-02-2021', 96)\n",
      "(1687799867, 'Saka', '19-12-2022', 92)\n",
      "(1687799868, 'Watkins', '30-01-2021', 49)\n",
      "(1687799869, 'Mount', '16-09-2022', 48)\n",
      "(1687799870, 'Raphael', '15-05-2021', 50)\n",
      "(1687799871, 'Mahrez', '30-10-2021', 72)\n",
      "(9988776622, 'Pukki', '19-02-2021', 93)\n",
      "(9988776623, 'Fernandes', '01-03-2022', 94)\n"
     ]
    }
   ],
   "source": [
    "result=cursor.execute(\"select * from stud_det\")\n",
    "for row in result:\n",
    "    print(row)"
   ]
  },
  {
   "cell_type": "code",
   "execution_count": 92,
   "id": "e12436bf",
   "metadata": {},
   "outputs": [],
   "source": [
    "#Import Pandas as pd"
   ]
  },
  {
   "cell_type": "code",
   "execution_count": 93,
   "id": "1435cc74",
   "metadata": {},
   "outputs": [
    {
     "name": "stdout",
     "output_type": "stream",
     "text": [
      "             0          1           2   3\n",
      "0   9988776604      Salah  03-10-2020  85\n",
      "1   9988776605  Heung-Son  21-06-2020  39\n",
      "2   9988776606    Ronaldo  08-05-2020  86\n",
      "3   9988776607       Kane  11-05-2022  57\n",
      "4   9988776608       Mane  17-05-2022  52\n",
      "5   6609998877      Vardy  17-12-2020  54\n",
      "6   6609998878       Jota  06-11-2021  45\n",
      "7   6609998879     Bruyne  26-11-2020  49\n",
      "8   6609998880       Zaha  05-12-2020  88\n",
      "9   6609998881   Sterling  29-10-2020  61\n",
      "10  9988776614      Toney  31-03-2022  71\n",
      "11  9988776615   Maddison  10-03-2020  44\n",
      "12  1687799866      Bowen  14-02-2021  96\n",
      "13  1687799867       Saka  19-12-2022  92\n",
      "14  1687799868    Watkins  30-01-2021  49\n",
      "15  1687799869      Mount  16-09-2022  48\n",
      "16  1687799870    Raphael  15-05-2021  50\n",
      "17  1687799871     Mahrez  30-10-2021  72\n",
      "18  9988776622      Pukki  19-02-2021  93\n",
      "19  9988776623  Fernandes  01-03-2022  94\n"
     ]
    }
   ],
   "source": [
    "cursor.execute(\"select * from stud_det\") #Read data using cursor and hold all the data\n",
    "df=pd.DataFrame(cursor.fetchall())\n",
    "print(df)"
   ]
  },
  {
   "cell_type": "code",
   "execution_count": 94,
   "id": "4fb4bb82",
   "metadata": {},
   "outputs": [],
   "source": [
    "#This code Help us to Fetch columns names"
   ]
  },
  {
   "cell_type": "code",
   "execution_count": 98,
   "id": "f9e1bff1",
   "metadata": {},
   "outputs": [
    {
     "data": {
      "text/plain": [
       "(('phone_number', None, None, None, None, None, None),\n",
       " ('student_name', None, None, None, None, None, None),\n",
       " ('enrolled_date', None, None, None, None, None, None),\n",
       " ('marks', None, None, None, None, None, None))"
      ]
     },
     "execution_count": 98,
     "metadata": {},
     "output_type": "execute_result"
    }
   ],
   "source": [
    "cursor.description"
   ]
  },
  {
   "cell_type": "code",
   "execution_count": 96,
   "id": "51895eb0",
   "metadata": {},
   "outputs": [
    {
     "data": {
      "text/html": [
       "<div>\n",
       "<style scoped>\n",
       "    .dataframe tbody tr th:only-of-type {\n",
       "        vertical-align: middle;\n",
       "    }\n",
       "\n",
       "    .dataframe tbody tr th {\n",
       "        vertical-align: top;\n",
       "    }\n",
       "\n",
       "    .dataframe thead th {\n",
       "        text-align: right;\n",
       "    }\n",
       "</style>\n",
       "<table border=\"1\" class=\"dataframe\">\n",
       "  <thead>\n",
       "    <tr style=\"text-align: right;\">\n",
       "      <th></th>\n",
       "      <th>phone_number</th>\n",
       "      <th>student_name</th>\n",
       "      <th>enrolled_date</th>\n",
       "      <th>marks</th>\n",
       "    </tr>\n",
       "  </thead>\n",
       "  <tbody>\n",
       "    <tr>\n",
       "      <th>0</th>\n",
       "      <td>9988776604</td>\n",
       "      <td>Salah</td>\n",
       "      <td>03-10-2020</td>\n",
       "      <td>85</td>\n",
       "    </tr>\n",
       "    <tr>\n",
       "      <th>1</th>\n",
       "      <td>9988776605</td>\n",
       "      <td>Heung-Son</td>\n",
       "      <td>21-06-2020</td>\n",
       "      <td>39</td>\n",
       "    </tr>\n",
       "    <tr>\n",
       "      <th>2</th>\n",
       "      <td>9988776606</td>\n",
       "      <td>Ronaldo</td>\n",
       "      <td>08-05-2020</td>\n",
       "      <td>86</td>\n",
       "    </tr>\n",
       "    <tr>\n",
       "      <th>3</th>\n",
       "      <td>9988776607</td>\n",
       "      <td>Kane</td>\n",
       "      <td>11-05-2022</td>\n",
       "      <td>57</td>\n",
       "    </tr>\n",
       "    <tr>\n",
       "      <th>4</th>\n",
       "      <td>9988776608</td>\n",
       "      <td>Mane</td>\n",
       "      <td>17-05-2022</td>\n",
       "      <td>52</td>\n",
       "    </tr>\n",
       "  </tbody>\n",
       "</table>\n",
       "</div>"
      ],
      "text/plain": [
       "   phone_number student_name enrolled_date  marks\n",
       "0    9988776604        Salah    03-10-2020     85\n",
       "1    9988776605    Heung-Son    21-06-2020     39\n",
       "2    9988776606      Ronaldo    08-05-2020     86\n",
       "3    9988776607         Kane    11-05-2022     57\n",
       "4    9988776608         Mane    17-05-2022     52"
      ]
     },
     "execution_count": 96,
     "metadata": {},
     "output_type": "execute_result"
    }
   ],
   "source": [
    "df.columns=[x[0]for x in cursor.description]\n",
    "df.head()"
   ]
  },
  {
   "cell_type": "code",
   "execution_count": null,
   "id": "24892dd6",
   "metadata": {},
   "outputs": [],
   "source": [
    "sql=\"drop table stud_det\"\n",
    "cursor.execute(sql)"
   ]
  },
  {
   "cell_type": "code",
   "execution_count": null,
   "id": "9b338d58",
   "metadata": {},
   "outputs": [],
   "source": [
    "#Student of DataScience\n",
    "#Student of DataTrained-Saurav\n",
    "#Date-30-07-2022\n",
    "#Time-22:00"
   ]
  }
 ],
 "metadata": {
  "kernelspec": {
   "display_name": "Python 3 (ipykernel)",
   "language": "python",
   "name": "python3"
  },
  "language_info": {
   "codemirror_mode": {
    "name": "ipython",
    "version": 3
   },
   "file_extension": ".py",
   "mimetype": "text/x-python",
   "name": "python",
   "nbconvert_exporter": "python",
   "pygments_lexer": "ipython3",
   "version": "3.9.12"
  }
 },
 "nbformat": 4,
 "nbformat_minor": 5
}
