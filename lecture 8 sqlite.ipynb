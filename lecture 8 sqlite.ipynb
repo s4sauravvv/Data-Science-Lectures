{
 "cells": [
  {
   "cell_type": "code",
   "execution_count": null,
   "id": "777e50bd",
   "metadata": {},
   "outputs": [],
   "source": [
    "#Lecture 8 \n",
    "# SQLite3"
   ]
  },
  {
   "cell_type": "code",
   "execution_count": 2,
   "id": "542b8c9a",
   "metadata": {},
   "outputs": [],
   "source": [
    "import sqlite3"
   ]
  },
  {
   "cell_type": "code",
   "execution_count": 4,
   "id": "f2dad3ff",
   "metadata": {},
   "outputs": [],
   "source": [
    "db=sqlite3.connect(\"Student_database.db\")"
   ]
  },
  {
   "cell_type": "code",
   "execution_count": 5,
   "id": "647acc67",
   "metadata": {},
   "outputs": [],
   "source": [
    "cursor=db.cursor()"
   ]
  },
  {
   "cell_type": "code",
   "execution_count": 7,
   "id": "bd1fb414",
   "metadata": {},
   "outputs": [],
   "source": [
    "#Now Lets Create Table  "
   ]
  },
  {
   "cell_type": "code",
   "execution_count": 6,
   "id": "22edaa54",
   "metadata": {},
   "outputs": [
    {
     "data": {
      "text/plain": [
       "<sqlite3.Cursor at 0x1e26bc8fea0>"
      ]
     },
     "execution_count": 6,
     "metadata": {},
     "output_type": "execute_result"
    }
   ],
   "source": [
    "cursor.execute(\"Create table student_data(phone_number int primary key,email_id text,course_name text,fee_paid int)\")"
   ]
  },
  {
   "cell_type": "code",
   "execution_count": 8,
   "id": "3acd5d57",
   "metadata": {},
   "outputs": [],
   "source": [
    "#Now Insert values "
   ]
  },
  {
   "cell_type": "code",
   "execution_count": 9,
   "id": "822b1521",
   "metadata": {},
   "outputs": [
    {
     "data": {
      "text/plain": [
       "<sqlite3.Cursor at 0x1e26bc8fea0>"
      ]
     },
     "execution_count": 9,
     "metadata": {},
     "output_type": "execute_result"
    }
   ],
   "source": [
    "cursor.execute(\"insert into student_data(phone_number,email_id,course_name,fee_paid)values(9406289124,'saurav.vicky16@gmail.com','DatScience',25000)\")"
   ]
  },
  {
   "cell_type": "code",
   "execution_count": 11,
   "id": "dd16b44f",
   "metadata": {},
   "outputs": [],
   "source": [
    "db.commit() # its mean save the data to student_data file"
   ]
  },
  {
   "cell_type": "code",
   "execution_count": 13,
   "id": "75e33afa",
   "metadata": {},
   "outputs": [],
   "source": [
    "#now check how much records we inserted"
   ]
  },
  {
   "cell_type": "code",
   "execution_count": 14,
   "id": "0a9dae1b",
   "metadata": {},
   "outputs": [
    {
     "name": "stdout",
     "output_type": "stream",
     "text": [
      "1 Record(s) Inserted\n"
     ]
    }
   ],
   "source": [
    "print(cursor.rowcount,(\"Record(s) Inserted\"))"
   ]
  },
  {
   "cell_type": "code",
   "execution_count": 15,
   "id": "9ce6cd1e",
   "metadata": {},
   "outputs": [],
   "source": [
    "#Lets check which record we inserted here"
   ]
  },
  {
   "cell_type": "code",
   "execution_count": 17,
   "id": "02e9bb73",
   "metadata": {},
   "outputs": [
    {
     "name": "stdout",
     "output_type": "stream",
     "text": [
      "(9406289124, 'saurav.vicky16@gmail.com', 'DatScience', 25000)\n"
     ]
    }
   ],
   "source": [
    "sql=\"select * from student_data\" #  * means every thing\n",
    "cursor.execute\n",
    "result=cursor.execute(sql)\n",
    "for row in result:\n",
    "    print(row)"
   ]
  },
  {
   "cell_type": "code",
   "execution_count": 18,
   "id": "c3054d89",
   "metadata": {},
   "outputs": [],
   "source": [
    "#Multiple record insertion"
   ]
  },
  {
   "cell_type": "code",
   "execution_count": 20,
   "id": "59014a38",
   "metadata": {},
   "outputs": [
    {
     "data": {
      "text/plain": [
       "<sqlite3.Cursor at 0x1e26bc8fea0>"
      ]
     },
     "execution_count": 20,
     "metadata": {},
     "output_type": "execute_result"
    }
   ],
   "source": [
    "cursor.execute(\"insert into student_data values(9752302393,'imgk19@gmail.com','Engineering',50000),(9406438538,'rubi@gmail.com','House Wife',65000)\")"
   ]
  },
  {
   "cell_type": "code",
   "execution_count": 21,
   "id": "91fe9707",
   "metadata": {},
   "outputs": [
    {
     "name": "stdout",
     "output_type": "stream",
     "text": [
      "2 Record(s) inserted\n"
     ]
    }
   ],
   "source": [
    "print(cursor.rowcount,'Record(s) inserted')"
   ]
  },
  {
   "cell_type": "code",
   "execution_count": 22,
   "id": "d2c4d3d6",
   "metadata": {},
   "outputs": [],
   "source": [
    "db.commit()"
   ]
  },
  {
   "cell_type": "code",
   "execution_count": 24,
   "id": "5392f186",
   "metadata": {},
   "outputs": [
    {
     "name": "stdout",
     "output_type": "stream",
     "text": [
      "(9406289124, 'saurav.vicky16@gmail.com', 'DatScience', 25000)\n",
      "(9752302393, 'imgk19@gmail.com', 'Engineering', 50000)\n",
      "(9406438538, 'rubi@gmail.com', 'House Wife', 65000)\n"
     ]
    }
   ],
   "source": [
    "result=cursor.execute(\"select * from student_data\")\n",
    "for row in result:\n",
    "    print(row)"
   ]
  },
  {
   "cell_type": "code",
   "execution_count": 25,
   "id": "c2e3e382",
   "metadata": {},
   "outputs": [],
   "source": [
    "#open csv file from our save files."
   ]
  },
  {
   "cell_type": "code",
   "execution_count": 26,
   "id": "18389e95",
   "metadata": {},
   "outputs": [
    {
     "name": "stdout",
     "output_type": "stream",
     "text": [
      "20\n"
     ]
    }
   ],
   "source": [
    "with open(\"DT_Students1.csv\",'r')as file:\n",
    "    row_count=0\n",
    "    for row in file:\n",
    "        cursor.execute(\"insert into student_data values(?,?,?,?)\",row.split(\",\"))\n",
    "        db.commit()\n",
    "        row_count +=1\n",
    "print(row_count)"
   ]
  },
  {
   "cell_type": "code",
   "execution_count": 28,
   "id": "3f3918ff",
   "metadata": {},
   "outputs": [],
   "source": [
    "#verify all files are fetch or not"
   ]
  },
  {
   "cell_type": "code",
   "execution_count": 29,
   "id": "822727c5",
   "metadata": {},
   "outputs": [
    {
     "name": "stdout",
     "output_type": "stream",
     "text": [
      "(9406289124, 'saurav.vicky16@gmail.com', 'DatScience', 25000)\n",
      "(9752302393, 'imgk19@gmail.com', 'Engineering', 50000)\n",
      "(9406438538, 'rubi@gmail.com', 'House Wife', 65000)\n",
      "(9988776604, 'student4@gmail.com', 'Digital Marketing', 38000)\n",
      "(9988776605, 'student5@gmail.com', 'Data Science', 133000)\n",
      "(9988776606, 'student6@gmail.com', 'Data Science', 34000)\n",
      "(9988776607, 'student7@gmail.com', 'Data Science', 33000)\n",
      "(9988776608, 'student8@gmail.com', 'Data Science', 129000)\n",
      "(9988776609, 'student9@gmail.com', 'Data Science', 40000)\n",
      "(9988776610, 'student10@gmail.com', 'Data Analytics', 32500)\n",
      "(9988776611, 'student11@gmail.com', 'Data Science', 41500)\n",
      "(9988776612, 'student12@gmail.com', 'Digital Marketing', 31000)\n",
      "(9988776613, 'student13@gmail.com', 'Digital Marketing', 23000)\n",
      "(9988776614, 'student14@gmail.com', 'Data Science', 24000)\n",
      "(9988776615, 'student15@gmail.com', 'Data Science', 23000)\n",
      "(9988776616, 'student16@gmail.com', 'Data Science', 122500)\n",
      "(9988776617, 'student17@gmail.com', 'Data Science', 29000)\n",
      "(9988776618, 'student18@gmail.com', 'Data Science', 140000)\n",
      "(9988776619, 'student19@gmail.com', 'Data Analytics', 32500)\n",
      "(9988776620, 'student20@gmail.com', 'Inv Banking', 41500)\n",
      "(9988776621, 'student21@gmail.com', 'Data Science', 131000)\n",
      "(9988776622, 'student22@gmail.com', 'Data Science', 23000)\n",
      "(9988776623, 'student23@gmail.com', 'Data Science', 24000)\n"
     ]
    }
   ],
   "source": [
    "sql='select * from student_data'\n",
    "result=cursor.execute(sql)\n",
    "for row in result:\n",
    "    print(row)"
   ]
  },
  {
   "cell_type": "code",
   "execution_count": 30,
   "id": "a5b6f0e2",
   "metadata": {},
   "outputs": [],
   "source": [
    "# where caluse -select record based on condtion"
   ]
  },
  {
   "cell_type": "code",
   "execution_count": 31,
   "id": "1035946a",
   "metadata": {},
   "outputs": [
    {
     "name": "stdout",
     "output_type": "stream",
     "text": [
      "(9988776605, 'student5@gmail.com', 'Data Science', 133000)\n",
      "(9988776606, 'student6@gmail.com', 'Data Science', 34000)\n",
      "(9988776607, 'student7@gmail.com', 'Data Science', 33000)\n",
      "(9988776608, 'student8@gmail.com', 'Data Science', 129000)\n",
      "(9988776609, 'student9@gmail.com', 'Data Science', 40000)\n",
      "(9988776611, 'student11@gmail.com', 'Data Science', 41500)\n",
      "(9988776614, 'student14@gmail.com', 'Data Science', 24000)\n",
      "(9988776615, 'student15@gmail.com', 'Data Science', 23000)\n",
      "(9988776616, 'student16@gmail.com', 'Data Science', 122500)\n",
      "(9988776617, 'student17@gmail.com', 'Data Science', 29000)\n",
      "(9988776618, 'student18@gmail.com', 'Data Science', 140000)\n",
      "(9988776621, 'student21@gmail.com', 'Data Science', 131000)\n",
      "(9988776622, 'student22@gmail.com', 'Data Science', 23000)\n",
      "(9988776623, 'student23@gmail.com', 'Data Science', 24000)\n"
     ]
    }
   ],
   "source": [
    "sql=\"select * from student_data where course_name='Data Science'\"\n",
    "result=cursor.execute(sql)\n",
    "for row in result:\n",
    "    print(row)\n",
    "    "
   ]
  },
  {
   "cell_type": "code",
   "execution_count": 32,
   "id": "b2f58f68",
   "metadata": {},
   "outputs": [],
   "source": [
    "#Check how to delete records, based on condition\n"
   ]
  },
  {
   "cell_type": "code",
   "execution_count": 34,
   "id": "b5f5e291",
   "metadata": {},
   "outputs": [],
   "source": [
    "sql=\"Delete from student_data where phone_number=9406289124\"\n",
    "cursor.execute(sql)\n",
    "db.commit()"
   ]
  },
  {
   "cell_type": "code",
   "execution_count": 37,
   "id": "0a0cd852",
   "metadata": {},
   "outputs": [],
   "source": [
    "#Verify its deleted or not"
   ]
  },
  {
   "cell_type": "code",
   "execution_count": 36,
   "id": "dbf6a669",
   "metadata": {},
   "outputs": [
    {
     "name": "stdout",
     "output_type": "stream",
     "text": [
      "(9752302393, 'imgk19@gmail.com', 'Engineering', 50000)\n",
      "(9406438538, 'rubi@gmail.com', 'House Wife', 65000)\n",
      "(9988776604, 'student4@gmail.com', 'Digital Marketing', 38000)\n",
      "(9988776605, 'student5@gmail.com', 'Data Science', 133000)\n",
      "(9988776606, 'student6@gmail.com', 'Data Science', 34000)\n",
      "(9988776607, 'student7@gmail.com', 'Data Science', 33000)\n",
      "(9988776608, 'student8@gmail.com', 'Data Science', 129000)\n",
      "(9988776609, 'student9@gmail.com', 'Data Science', 40000)\n",
      "(9988776610, 'student10@gmail.com', 'Data Analytics', 32500)\n",
      "(9988776611, 'student11@gmail.com', 'Data Science', 41500)\n",
      "(9988776612, 'student12@gmail.com', 'Digital Marketing', 31000)\n",
      "(9988776613, 'student13@gmail.com', 'Digital Marketing', 23000)\n",
      "(9988776614, 'student14@gmail.com', 'Data Science', 24000)\n",
      "(9988776615, 'student15@gmail.com', 'Data Science', 23000)\n",
      "(9988776616, 'student16@gmail.com', 'Data Science', 122500)\n",
      "(9988776617, 'student17@gmail.com', 'Data Science', 29000)\n",
      "(9988776618, 'student18@gmail.com', 'Data Science', 140000)\n",
      "(9988776619, 'student19@gmail.com', 'Data Analytics', 32500)\n",
      "(9988776620, 'student20@gmail.com', 'Inv Banking', 41500)\n",
      "(9988776621, 'student21@gmail.com', 'Data Science', 131000)\n",
      "(9988776622, 'student22@gmail.com', 'Data Science', 23000)\n",
      "(9988776623, 'student23@gmail.com', 'Data Science', 24000)\n"
     ]
    }
   ],
   "source": [
    "result=cursor.execute(\"select * from student_data\")\n",
    "for row in result:\n",
    "    print(row)"
   ]
  },
  {
   "cell_type": "code",
   "execution_count": 38,
   "id": "fab4a7bd",
   "metadata": {},
   "outputs": [],
   "source": [
    "#Order By.! How to chaneg the order of records."
   ]
  },
  {
   "cell_type": "code",
   "execution_count": 46,
   "id": "d34a6440",
   "metadata": {},
   "outputs": [
    {
     "name": "stdout",
     "output_type": "stream",
     "text": [
      "(9988776618, 'student18@gmail.com', 'Data Science', 140000)\n",
      "(9988776605, 'student5@gmail.com', 'Data Science', 133000)\n",
      "(9988776621, 'student21@gmail.com', 'Data Science', 131000)\n",
      "(9988776608, 'student8@gmail.com', 'Data Science', 129000)\n",
      "(9988776616, 'student16@gmail.com', 'Data Science', 122500)\n",
      "(9406438538, 'rubi@gmail.com', 'House Wife', 65000)\n",
      "(9752302393, 'imgk19@gmail.com', 'Engineering', 50000)\n",
      "(9988776611, 'student11@gmail.com', 'Data Science', 41500)\n",
      "(9988776620, 'student20@gmail.com', 'Inv Banking', 41500)\n",
      "(9988776609, 'student9@gmail.com', 'Data Science', 40000)\n",
      "(9988776604, 'student4@gmail.com', 'Digital Marketing', 38000)\n",
      "(9988776606, 'student6@gmail.com', 'Data Science', 34000)\n",
      "(9988776607, 'student7@gmail.com', 'Data Science', 33000)\n",
      "(9988776610, 'student10@gmail.com', 'Data Analytics', 32500)\n",
      "(9988776619, 'student19@gmail.com', 'Data Analytics', 32500)\n",
      "(9988776612, 'student12@gmail.com', 'Digital Marketing', 31000)\n",
      "(9988776617, 'student17@gmail.com', 'Data Science', 29000)\n",
      "(9988776614, 'student14@gmail.com', 'Data Science', 24000)\n",
      "(9988776623, 'student23@gmail.com', 'Data Science', 24000)\n",
      "(9988776613, 'student13@gmail.com', 'Digital Marketing', 23000)\n",
      "(9988776615, 'student15@gmail.com', 'Data Science', 23000)\n",
      "(9988776622, 'student22@gmail.com', 'Data Science', 23000)\n"
     ]
    }
   ],
   "source": [
    "sql=\"select * from student_data order by fee_paid desc\"\n",
    "result=cursor.execute(sql)\n",
    "for row in result:\n",
    "    print(row)"
   ]
  },
  {
   "cell_type": "code",
   "execution_count": 47,
   "id": "9dd5d818",
   "metadata": {},
   "outputs": [],
   "source": [
    "#Table Update the column value."
   ]
  },
  {
   "cell_type": "code",
   "execution_count": 51,
   "id": "42370c84",
   "metadata": {},
   "outputs": [
    {
     "data": {
      "text/plain": [
       "<sqlite3.Cursor at 0x1e26bc8fea0>"
      ]
     },
     "execution_count": 51,
     "metadata": {},
     "output_type": "execute_result"
    }
   ],
   "source": [
    "sql='update student_data set course_name=\"Data Science\" where phone_number=9988776612'\n",
    "cursor.execute(sql)"
   ]
  },
  {
   "cell_type": "code",
   "execution_count": 52,
   "id": "d8292c29",
   "metadata": {},
   "outputs": [],
   "source": [
    "#check course name with particular number"
   ]
  },
  {
   "cell_type": "code",
   "execution_count": 50,
   "id": "12fadefb",
   "metadata": {},
   "outputs": [
    {
     "name": "stdout",
     "output_type": "stream",
     "text": [
      "(9988776612, 'student12@gmail.com', 'Data Science', 31000)\n"
     ]
    }
   ],
   "source": [
    "result=cursor.execute(\"select * from student_data where phone_number=9988776612\")\n",
    "for row in result:\n",
    "    print(row)"
   ]
  },
  {
   "cell_type": "code",
   "execution_count": 53,
   "id": "be55b99f",
   "metadata": {},
   "outputs": [],
   "source": [
    "#Multiple Condition"
   ]
  },
  {
   "cell_type": "code",
   "execution_count": 54,
   "id": "ce32f8cc",
   "metadata": {},
   "outputs": [
    {
     "name": "stdout",
     "output_type": "stream",
     "text": [
      "(9988776606, 'student6@gmail.com', 34000)\n",
      "(9988776607, 'student7@gmail.com', 33000)\n",
      "(9988776609, 'student9@gmail.com', 40000)\n",
      "(9988776611, 'student11@gmail.com', 41500)\n",
      "(9988776612, 'student12@gmail.com', 31000)\n",
      "(9988776614, 'student14@gmail.com', 24000)\n",
      "(9988776615, 'student15@gmail.com', 23000)\n",
      "(9988776617, 'student17@gmail.com', 29000)\n",
      "(9988776622, 'student22@gmail.com', 23000)\n",
      "(9988776623, 'student23@gmail.com', 24000)\n"
     ]
    }
   ],
   "source": [
    "sql=\"select phone_number,email_id,fee_paid from student_data where course_name='Data Science'and fee_paid <=50000\"\n",
    "result=cursor.execute(sql)\n",
    "for row in result:\n",
    "    print(row)"
   ]
  },
  {
   "cell_type": "code",
   "execution_count": 55,
   "id": "fa02e87b",
   "metadata": {},
   "outputs": [],
   "source": [
    "#Multiple record update using 'IN'"
   ]
  },
  {
   "cell_type": "code",
   "execution_count": 56,
   "id": "7143e77b",
   "metadata": {},
   "outputs": [
    {
     "data": {
      "text/plain": [
       "<sqlite3.Cursor at 0x1e26bc8fea0>"
      ]
     },
     "execution_count": 56,
     "metadata": {},
     "output_type": "execute_result"
    }
   ],
   "source": [
    "sql=\"update student_data set fee_paid=140000 where phone_number in (9988776611,9988776611,9988776617)\"\n",
    "cursor.execute(sql)"
   ]
  },
  {
   "cell_type": "code",
   "execution_count": 62,
   "id": "8fe7542b",
   "metadata": {},
   "outputs": [
    {
     "name": "stdout",
     "output_type": "stream",
     "text": [
      "(9988776611, 'student11@gmail.com')\n",
      "(9988776617, 'student17@gmail.com')\n",
      "(9988776618, 'student18@gmail.com')\n"
     ]
    }
   ],
   "source": [
    "result=cursor.execute(\"select phone_number,email_id from student_data where fee_paid=140000\")\n",
    "for row in result:\n",
    "    print(row)"
   ]
  },
  {
   "cell_type": "code",
   "execution_count": 63,
   "id": "a8f6e005",
   "metadata": {},
   "outputs": [],
   "source": [
    "#Update records using between (this will update all the reocrds between the range given)"
   ]
  },
  {
   "cell_type": "code",
   "execution_count": 66,
   "id": "8dd6707f",
   "metadata": {},
   "outputs": [
    {
     "data": {
      "text/plain": [
       "<sqlite3.Cursor at 0x1e26bc8fea0>"
      ]
     },
     "execution_count": 66,
     "metadata": {},
     "output_type": "execute_result"
    }
   ],
   "source": [
    "sql=\"update student_data set course_name='Mining' where phone_number between 9988776611 and 9988776617\"\n",
    "cursor.execute(sql)"
   ]
  },
  {
   "cell_type": "code",
   "execution_count": 67,
   "id": "7168a682",
   "metadata": {},
   "outputs": [
    {
     "name": "stdout",
     "output_type": "stream",
     "text": [
      "(9988776611, 'student11@gmail.com', 'Mining', 140000)\n",
      "(9988776612, 'student12@gmail.com', 'Mining', 31000)\n",
      "(9988776613, 'student13@gmail.com', 'Mining', 23000)\n",
      "(9988776614, 'student14@gmail.com', 'Mining', 24000)\n",
      "(9988776615, 'student15@gmail.com', 'Mining', 23000)\n",
      "(9988776616, 'student16@gmail.com', 'Mining', 122500)\n",
      "(9988776617, 'student17@gmail.com', 'Mining', 140000)\n"
     ]
    }
   ],
   "source": [
    "result=cursor.execute(\"select * from student_data where course_name='Mining'\")\n",
    "for row in result:\n",
    "    print(row)"
   ]
  },
  {
   "cell_type": "code",
   "execution_count": 68,
   "id": "8a78c1a9",
   "metadata": {},
   "outputs": [],
   "source": [
    "#Lets learn about Minimun and Maximum function"
   ]
  },
  {
   "cell_type": "code",
   "execution_count": 69,
   "id": "9f6afda7",
   "metadata": {},
   "outputs": [],
   "source": [
    "#Minimum Function # Using Fetchone"
   ]
  },
  {
   "cell_type": "code",
   "execution_count": 76,
   "id": "3d32e336",
   "metadata": {},
   "outputs": [
    {
     "data": {
      "text/plain": [
       "(23000,)"
      ]
     },
     "execution_count": 76,
     "metadata": {},
     "output_type": "execute_result"
    }
   ],
   "source": [
    "result=cursor.execute(\"select min(fee_paid) from student_data\")\n",
    "result.fetchone()"
   ]
  },
  {
   "cell_type": "code",
   "execution_count": 72,
   "id": "6f22ec4a",
   "metadata": {},
   "outputs": [],
   "source": [
    "#Maximum Function"
   ]
  },
  {
   "cell_type": "code",
   "execution_count": 75,
   "id": "ed1f026c",
   "metadata": {},
   "outputs": [
    {
     "data": {
      "text/plain": [
       "(140000,)"
      ]
     },
     "execution_count": 75,
     "metadata": {},
     "output_type": "execute_result"
    }
   ],
   "source": [
    "result=cursor.execute(\"select max(fee_paid) from student_data\")\n",
    "result.fetchone()"
   ]
  },
  {
   "cell_type": "code",
   "execution_count": 80,
   "id": "e0c81829",
   "metadata": {},
   "outputs": [],
   "source": [
    "#Next Topic"
   ]
  },
  {
   "cell_type": "code",
   "execution_count": 81,
   "id": "ba45bcc6",
   "metadata": {},
   "outputs": [],
   "source": [
    "#SubQuery-"
   ]
  },
  {
   "cell_type": "code",
   "execution_count": 82,
   "id": "a8956f1a",
   "metadata": {},
   "outputs": [],
   "source": [
    "import sqlite3"
   ]
  },
  {
   "cell_type": "code",
   "execution_count": 83,
   "id": "84512263",
   "metadata": {},
   "outputs": [],
   "source": [
    "db=sqlite3.connect(\"Student_course_database.db\")"
   ]
  },
  {
   "cell_type": "code",
   "execution_count": 84,
   "id": "f8afe2fe",
   "metadata": {},
   "outputs": [],
   "source": [
    "cur=db.cursor()"
   ]
  },
  {
   "cell_type": "code",
   "execution_count": 85,
   "id": "d1d8df5a",
   "metadata": {},
   "outputs": [
    {
     "data": {
      "text/plain": [
       "<sqlite3.Cursor at 0x1e26bd2cd50>"
      ]
     },
     "execution_count": 85,
     "metadata": {},
     "output_type": "execute_result"
    }
   ],
   "source": [
    "cur.execute(\"create table course1(courseid int primary key,course_name text,duration int)\")"
   ]
  },
  {
   "cell_type": "code",
   "execution_count": 87,
   "id": "db1aaeaf",
   "metadata": {},
   "outputs": [
    {
     "data": {
      "text/plain": [
       "<sqlite3.Cursor at 0x1e26bd2cd50>"
      ]
     },
     "execution_count": 87,
     "metadata": {},
     "output_type": "execute_result"
    }
   ],
   "source": [
    "cur.execute(\"create table student1(roll_no int primary key,student_name text,age int,courseid int,foreign key(courseid) references course1(courseid))\")"
   ]
  },
  {
   "cell_type": "code",
   "execution_count": 88,
   "id": "9480bf8c",
   "metadata": {},
   "outputs": [
    {
     "data": {
      "text/plain": [
       "<sqlite3.Cursor at 0x1e26bd2cd50>"
      ]
     },
     "execution_count": 88,
     "metadata": {},
     "output_type": "execute_result"
    }
   ],
   "source": [
    "cur.execute(\"insert into course1 values(78,'Data Science',12),(56,'Python Course',4),(101,'Data Base',7)\")"
   ]
  },
  {
   "cell_type": "code",
   "execution_count": 89,
   "id": "07e6a224",
   "metadata": {},
   "outputs": [
    {
     "name": "stdout",
     "output_type": "stream",
     "text": [
      "3 Record(s) Inserted\n"
     ]
    }
   ],
   "source": [
    "print(cur.rowcount,\"Record(s) Inserted\")"
   ]
  },
  {
   "cell_type": "code",
   "execution_count": 90,
   "id": "318a82b5",
   "metadata": {},
   "outputs": [
    {
     "data": {
      "text/plain": [
       "<sqlite3.Cursor at 0x1e26bd2cd50>"
      ]
     },
     "execution_count": 90,
     "metadata": {},
     "output_type": "execute_result"
    }
   ],
   "source": [
    "cur.execute(\"insert into student1 values(1,'Jack',22,78),(2,'John',21,56),(3,'Rudolf',18,78),(4,'Jim',21,56)\")"
   ]
  },
  {
   "cell_type": "code",
   "execution_count": 91,
   "id": "1ca83c2b",
   "metadata": {},
   "outputs": [
    {
     "name": "stdout",
     "output_type": "stream",
     "text": [
      "4 Record(s) Inserted\n"
     ]
    }
   ],
   "source": [
    "print(cur.rowcount,('Record(s) Inserted'))"
   ]
  },
  {
   "cell_type": "code",
   "execution_count": 92,
   "id": "92326139",
   "metadata": {},
   "outputs": [
    {
     "name": "stdout",
     "output_type": "stream",
     "text": [
      "(78, 'Data Science', 12)\n",
      "(56, 'Python Course', 4)\n",
      "(101, 'Data Base', 7)\n"
     ]
    }
   ],
   "source": [
    "result=cur.execute('select * from course1')\n",
    "for row in result:\n",
    "    print(row)"
   ]
  },
  {
   "cell_type": "code",
   "execution_count": 93,
   "id": "ad3453fe",
   "metadata": {},
   "outputs": [
    {
     "name": "stdout",
     "output_type": "stream",
     "text": [
      "(1, 'Jack', 22, 78)\n",
      "(2, 'John', 21, 56)\n",
      "(3, 'Rudolf', 18, 78)\n",
      "(4, 'Jim', 21, 56)\n"
     ]
    }
   ],
   "source": [
    "result=cur.execute(\"select * from student1\")\n",
    "for row in result:\n",
    "    print(row)"
   ]
  },
  {
   "cell_type": "code",
   "execution_count": 95,
   "id": "dd7f1604",
   "metadata": {},
   "outputs": [
    {
     "data": {
      "text/plain": [
       "[(1, 'Jack', 22, 78), (3, 'Rudolf', 18, 78)]"
      ]
     },
     "execution_count": 95,
     "metadata": {},
     "output_type": "execute_result"
    }
   ],
   "source": [
    "sql=\"select * from student1 where courseid=(select courseid from course1 where course_name='Data Science')\"\n",
    "result=cur.execute(sql)\n",
    "result.fetchall()"
   ]
  },
  {
   "cell_type": "code",
   "execution_count": 103,
   "id": "eef096da",
   "metadata": {},
   "outputs": [
    {
     "data": {
      "text/plain": [
       "[(2, 'John', 21, 56), (4, 'Jim', 21, 56)]"
      ]
     },
     "execution_count": 103,
     "metadata": {},
     "output_type": "execute_result"
    }
   ],
   "source": [
    "sql=\"select * from student1 where courseid=(select courseid from course1 where course_name='Python Course')\"\n",
    "result=cur.execute(sql)\n",
    "result.fetchall()"
   ]
  },
  {
   "cell_type": "code",
   "execution_count": null,
   "id": "38b6180e",
   "metadata": {},
   "outputs": [],
   "source": [
    "# Studen  of DatScience\n",
    "# Student of Datatrained -Saurav\n",
    "#Date-12-07-2022\n",
    "#Time-12:05"
   ]
  }
 ],
 "metadata": {
  "kernelspec": {
   "display_name": "Python 3 (ipykernel)",
   "language": "python",
   "name": "python3"
  },
  "language_info": {
   "codemirror_mode": {
    "name": "ipython",
    "version": 3
   },
   "file_extension": ".py",
   "mimetype": "text/x-python",
   "name": "python",
   "nbconvert_exporter": "python",
   "pygments_lexer": "ipython3",
   "version": "3.9.12"
  }
 },
 "nbformat": 4,
 "nbformat_minor": 5
}
