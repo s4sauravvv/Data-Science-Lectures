{
 "cells": [
  {
   "cell_type": "code",
   "execution_count": 1,
   "id": "f5fb5097",
   "metadata": {},
   "outputs": [],
   "source": [
    "#Lecture 9\n",
    "#Learing about SQLite3 - Join"
   ]
  },
  {
   "cell_type": "code",
   "execution_count": 3,
   "id": "ab69a436",
   "metadata": {},
   "outputs": [],
   "source": [
    "import sqlite3"
   ]
  },
  {
   "cell_type": "code",
   "execution_count": 4,
   "id": "e949748a",
   "metadata": {},
   "outputs": [],
   "source": [
    "#Create one more table"
   ]
  },
  {
   "cell_type": "code",
   "execution_count": 2,
   "id": "295dda0a",
   "metadata": {},
   "outputs": [],
   "source": [
    "#There 4 types of Join\n",
    "# 1- Inner Join - Returns Record from both table which are matching.\n",
    "# 2- Left (Outer) Join -Fetch all the record from table1 and matching record from table2\n",
    "# 3- Right (outer) Join- Fetch all record from table 2 and matching record from table1\n",
    "# 4- Full (outer) Join- fetch all record from table1 and table 2. matching record takes as 1 record."
   ]
  },
  {
   "cell_type": "code",
   "execution_count": 13,
   "id": "f03508c5",
   "metadata": {},
   "outputs": [],
   "source": [
    "db=sqlite3.connect('Student_details.db')"
   ]
  },
  {
   "cell_type": "code",
   "execution_count": 9,
   "id": "b6fd0fd4",
   "metadata": {},
   "outputs": [],
   "source": [
    "cursor=db.cursor()"
   ]
  },
  {
   "cell_type": "code",
   "execution_count": 14,
   "id": "a16272a6",
   "metadata": {},
   "outputs": [
    {
     "data": {
      "text/plain": [
       "<sqlite3.Cursor at 0x2962ddffe30>"
      ]
     },
     "execution_count": 14,
     "metadata": {},
     "output_type": "execute_result"
    }
   ],
   "source": [
    "cursor.execute(\"create table student_details1(phone_number int ,student_name text,enrolled_date text,marks int)\")"
   ]
  },
  {
   "cell_type": "code",
   "execution_count": null,
   "id": "d0ed487d",
   "metadata": {},
   "outputs": [],
   "source": []
  },
  {
   "cell_type": "code",
   "execution_count": 15,
   "id": "056c86b9",
   "metadata": {},
   "outputs": [
    {
     "name": "stdout",
     "output_type": "stream",
     "text": [
      "20 Reocrd(s) Inserted\n"
     ]
    }
   ],
   "source": [
    "with open('Students_details.csv','r') as file:\n",
    "    row_count=0\n",
    "    for row in file:\n",
    "        cursor.execute(\"insert into student_details1 values(?,?,?,?)\",row.split(\",\"))\n",
    "        db.commit()\n",
    "        row_count+=1\n",
    "print(row_count,'Reocrd(s) Inserted')"
   ]
  },
  {
   "cell_type": "code",
   "execution_count": 16,
   "id": "514fb0e4",
   "metadata": {},
   "outputs": [
    {
     "name": "stdout",
     "output_type": "stream",
     "text": [
      "(9988776604, 'Salah', '03-10-2020', 85)\n",
      "(9988776605, 'Heung-Son', '21-06-2020', 39)\n",
      "(9988776606, 'Ronaldo', '08-05-2020', 86)\n",
      "(9988776607, 'Kane', '11-05-2022', 57)\n",
      "(9988776608, 'Mane', '17-05-2022', 52)\n",
      "(6609998877, 'Vardy', '17-12-2020', 54)\n",
      "(6609998878, 'Jota', '06-11-2021', 45)\n",
      "(6609998879, 'Bruyne', '26-11-2020', 49)\n",
      "(6609998880, 'Zaha', '05-12-2020', 88)\n",
      "(6609998881, 'Sterling', '29-10-2020', 61)\n",
      "(9988776614, 'Toney', '31-03-2022', 71)\n",
      "(9988776615, 'Maddison', '10-03-2020', 44)\n",
      "(1687799866, 'Bowen', '14-02-2021', 96)\n",
      "(1687799867, 'Saka', '19-12-2022', 92)\n",
      "(1687799868, 'Watkins', '30-01-2021', 49)\n",
      "(1687799869, 'Mount', '16-09-2022', 48)\n",
      "(1687799870, 'Raphael', '15-05-2021', 50)\n",
      "(1687799871, 'Mahrez', '30-10-2021', 72)\n",
      "(9988776622, 'Pukki', '19-02-2021', 93)\n",
      "(9988776623, 'Fernandes', '01-03-2022', 94)\n"
     ]
    }
   ],
   "source": [
    "result=cursor.execute(\"select * from student_details1\")\n",
    "for row in result:\n",
    "    print(row)"
   ]
  },
  {
   "cell_type": "code",
   "execution_count": 23,
   "id": "09d0278a",
   "metadata": {},
   "outputs": [],
   "source": [
    "#We have to create one more table for use join Fucntion"
   ]
  },
  {
   "cell_type": "code",
   "execution_count": 25,
   "id": "c4d3e70b",
   "metadata": {},
   "outputs": [
    {
     "data": {
      "text/plain": [
       "<sqlite3.Cursor at 0x2962ddffe30>"
      ]
     },
     "execution_count": 25,
     "metadata": {},
     "output_type": "execute_result"
    }
   ],
   "source": [
    "cursor.execute('create table student_data(phone_number int primary key,email_id text,course_name text,fee_paid int)')"
   ]
  },
  {
   "cell_type": "code",
   "execution_count": 27,
   "id": "b27a4753",
   "metadata": {},
   "outputs": [
    {
     "name": "stdout",
     "output_type": "stream",
     "text": [
      "20\n"
     ]
    }
   ],
   "source": [
    "with open(\"DT_Students\",'r')as file:\n",
    "    row_count=0\n",
    "    for row in file:\n",
    "        cursor.execute(\"insert into student_data values(?,?,?,?)\",row.split(\",\"))\n",
    "        db.commit()\n",
    "        row_count +=1\n",
    "print(row_count)"
   ]
  },
  {
   "cell_type": "code",
   "execution_count": 28,
   "id": "dc2754c5",
   "metadata": {},
   "outputs": [
    {
     "name": "stdout",
     "output_type": "stream",
     "text": [
      "(9988776604, 'student4@gmail.com', 'Digital Marketing', 38000)\n",
      "(9988776605, 'student5@gmail.com', 'Data Science', 133000)\n",
      "(9988776606, 'student6@gmail.com', 'Data Science', 34000)\n",
      "(9988776607, 'student7@gmail.com', 'Data Science', 33000)\n",
      "(9988776608, 'student8@gmail.com', 'Data Science', 129000)\n",
      "(9988776609, 'student9@gmail.com', 'Data Science', 40000)\n",
      "(9988776610, 'student10@gmail.com', 'Data Analytics', 32500)\n",
      "(9988776611, 'student11@gmail.com', 'Data Science', 41500)\n",
      "(9988776612, 'student12@gmail.com', 'Digital Marketing', 31000)\n",
      "(9988776613, 'student13@gmail.com', 'Digital Marketing', 23000)\n",
      "(9988776614, 'student14@gmail.com', 'Data Science', 24000)\n",
      "(9988776615, 'student15@gmail.com', 'Data Science', 23000)\n",
      "(9988776616, 'student16@gmail.com', 'Data Science', 122500)\n",
      "(9988776617, 'student17@gmail.com', 'Data Science', 29000)\n",
      "(9988776618, 'student18@gmail.com', 'Data Science', 140000)\n",
      "(9988776619, 'student19@gmail.com', 'Data Analytics', 32500)\n",
      "(9988776620, 'student20@gmail.com', 'Inv Banking', 41500)\n",
      "(9988776621, 'student21@gmail.com', 'Data Science', 131000)\n",
      "(9988776622, 'student22@gmail.com', 'Data Science', 23000)\n",
      "(9988776623, 'student23@gmail.com', 'Data Science', 24000)\n"
     ]
    }
   ],
   "source": [
    "result=cursor.execute(\"select * from student_data\")\n",
    "for row in result:\n",
    "    print(row)"
   ]
  },
  {
   "cell_type": "code",
   "execution_count": 29,
   "id": "b02fd1df",
   "metadata": {},
   "outputs": [
    {
     "name": "stdout",
     "output_type": "stream",
     "text": [
      "(9988776604, 'Salah', '03-10-2020', 85)\n",
      "(9988776605, 'Heung-Son', '21-06-2020', 39)\n",
      "(9988776606, 'Ronaldo', '08-05-2020', 86)\n",
      "(9988776607, 'Kane', '11-05-2022', 57)\n",
      "(9988776608, 'Mane', '17-05-2022', 52)\n",
      "(6609998877, 'Vardy', '17-12-2020', 54)\n",
      "(6609998878, 'Jota', '06-11-2021', 45)\n",
      "(6609998879, 'Bruyne', '26-11-2020', 49)\n",
      "(6609998880, 'Zaha', '05-12-2020', 88)\n",
      "(6609998881, 'Sterling', '29-10-2020', 61)\n",
      "(9988776614, 'Toney', '31-03-2022', 71)\n",
      "(9988776615, 'Maddison', '10-03-2020', 44)\n",
      "(1687799866, 'Bowen', '14-02-2021', 96)\n",
      "(1687799867, 'Saka', '19-12-2022', 92)\n",
      "(1687799868, 'Watkins', '30-01-2021', 49)\n",
      "(1687799869, 'Mount', '16-09-2022', 48)\n",
      "(1687799870, 'Raphael', '15-05-2021', 50)\n",
      "(1687799871, 'Mahrez', '30-10-2021', 72)\n",
      "(9988776622, 'Pukki', '19-02-2021', 93)\n",
      "(9988776623, 'Fernandes', '01-03-2022', 94)\n"
     ]
    }
   ],
   "source": [
    "result=cursor.execute(\"select * from student_details1\")\n",
    "for row in result:\n",
    "    print(row)"
   ]
  },
  {
   "cell_type": "code",
   "execution_count": 30,
   "id": "a2a5ddb9",
   "metadata": {},
   "outputs": [],
   "source": [
    "#Inner Join"
   ]
  },
  {
   "cell_type": "code",
   "execution_count": 35,
   "id": "d4951b80",
   "metadata": {},
   "outputs": [
    {
     "name": "stdout",
     "output_type": "stream",
     "text": [
      "(9988776604, '03-10-2020', 'Salah', 85)\n",
      "(9988776605, '21-06-2020', 'Heung-Son', 39)\n",
      "(9988776606, '08-05-2020', 'Ronaldo', 86)\n",
      "(9988776607, '11-05-2022', 'Kane', 57)\n",
      "(9988776608, '17-05-2022', 'Mane', 52)\n",
      "(9988776614, '31-03-2022', 'Toney', 71)\n",
      "(9988776615, '10-03-2020', 'Maddison', 44)\n",
      "(9988776622, '19-02-2021', 'Pukki', 93)\n",
      "(9988776623, '01-03-2022', 'Fernandes', 94)\n"
     ]
    }
   ],
   "source": [
    "sql=\"select student_data.phone_number,student_details1.enrolled_date,student_details1.student_name,student_details1.marks from student_data inner join student_details1 on student_data.phone_number=student_details1.phone_number\"\n",
    "result=cursor.execute(sql)\n",
    "for row in result:\n",
    "    print(row)"
   ]
  },
  {
   "cell_type": "code",
   "execution_count": 36,
   "id": "c021efc2",
   "metadata": {},
   "outputs": [],
   "source": [
    "#Left Join"
   ]
  },
  {
   "cell_type": "code",
   "execution_count": 38,
   "id": "0e94dfbc",
   "metadata": {},
   "outputs": [
    {
     "name": "stdout",
     "output_type": "stream",
     "text": [
      "(9988776604, '03-10-2020', 'Salah', 85)\n",
      "(9988776605, '21-06-2020', 'Heung-Son', 39)\n",
      "(9988776606, '08-05-2020', 'Ronaldo', 86)\n",
      "(9988776607, '11-05-2022', 'Kane', 57)\n",
      "(9988776608, '17-05-2022', 'Mane', 52)\n",
      "(9988776609, None, None, None)\n",
      "(9988776610, None, None, None)\n",
      "(9988776611, None, None, None)\n",
      "(9988776612, None, None, None)\n",
      "(9988776613, None, None, None)\n",
      "(9988776614, '31-03-2022', 'Toney', 71)\n",
      "(9988776615, '10-03-2020', 'Maddison', 44)\n",
      "(9988776616, None, None, None)\n",
      "(9988776617, None, None, None)\n",
      "(9988776618, None, None, None)\n",
      "(9988776619, None, None, None)\n",
      "(9988776620, None, None, None)\n",
      "(9988776621, None, None, None)\n",
      "(9988776622, '19-02-2021', 'Pukki', 93)\n",
      "(9988776623, '01-03-2022', 'Fernandes', 94)\n"
     ]
    }
   ],
   "source": [
    "sql=\"select student_data.phone_number,student_details1.enrolled_date,student_details1.student_name,student_details1.marks from student_data left join student_details1 on student_data.phone_number=student_details1.phone_number\"\n",
    "result=cursor.execute(sql)\n",
    "for row in result:\n",
    "    print(row)"
   ]
  },
  {
   "cell_type": "code",
   "execution_count": 39,
   "id": "3b8bc9ed",
   "metadata": {},
   "outputs": [],
   "source": [
    "# Right Join and Full Join Not Supported on SQLite3"
   ]
  },
  {
   "cell_type": "code",
   "execution_count": 40,
   "id": "166febc4",
   "metadata": {},
   "outputs": [],
   "source": [
    "#Use SQL With Python"
   ]
  },
  {
   "cell_type": "code",
   "execution_count": 41,
   "id": "14faae97",
   "metadata": {},
   "outputs": [
    {
     "name": "stdout",
     "output_type": "stream",
     "text": [
      "Enter Your Number9988776622\n",
      "Name  Pukki\n",
      "DOJ  19-02-2021\n",
      "marks 93\n",
      "Phone Number Not Found in database\n"
     ]
    }
   ],
   "source": [
    "while True:\n",
    "    try:\n",
    "        ph_num=int(input(\"Enter Your Number\"))\n",
    "        if len(str(ph_num))!=10:\n",
    "            print(\"Please Enter Valid Number\")\n",
    "        else:\n",
    "            result=cursor.execute(\"select * from student_details1\")\n",
    "            for detail in result:\n",
    "                if detail[0]==ph_num:\n",
    "                    print(\"Name \",detail[1])\n",
    "                    print(\"DOJ \", detail[2])\n",
    "                    print(\"marks\",detail[3])\n",
    "            else:\n",
    "                print(\"Phone Number Not Found in database\")\n",
    "                break\n",
    "            break\n",
    "    except:\n",
    "        print(\"Not valud Number\")\n",
    "        continue\n",
    "    "
   ]
  },
  {
   "cell_type": "code",
   "execution_count": null,
   "id": "9a891325",
   "metadata": {},
   "outputs": [],
   "source": [
    "#Student of DataScience\n",
    "#Student of DataTrained-Saurav\n",
    "#Date-12-07-2022\n",
    "#Time-13:00"
   ]
  }
 ],
 "metadata": {
  "kernelspec": {
   "display_name": "Python 3 (ipykernel)",
   "language": "python",
   "name": "python3"
  },
  "language_info": {
   "codemirror_mode": {
    "name": "ipython",
    "version": 3
   },
   "file_extension": ".py",
   "mimetype": "text/x-python",
   "name": "python",
   "nbconvert_exporter": "python",
   "pygments_lexer": "ipython3",
   "version": "3.9.12"
  }
 },
 "nbformat": 4,
 "nbformat_minor": 5
}
